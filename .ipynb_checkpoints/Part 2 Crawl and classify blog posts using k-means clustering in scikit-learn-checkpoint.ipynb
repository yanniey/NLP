{
 "cells": [
  {
   "cell_type": "markdown",
   "metadata": {},
   "source": [
    "# Part 1: Autosummarise a Washington Post news article using rule-based methods"
   ]
  },
  {
   "cell_type": "code",
   "execution_count": 3,
   "metadata": {},
   "outputs": [],
   "source": [
    "import requests\n",
    "from bs4 import BeautifulSoup"
   ]
  },
  {
   "cell_type": "code",
   "execution_count": 17,
   "metadata": {},
   "outputs": [
    {
     "data": {
      "text/plain": [
       "'      By  John Wagner and          John Wagner National reporter leading The Post\\'s breaking political news team  Email  Bio  Follow         Erica Werner          Erica Werner Congressional reporter focusing on economic policy  Email  Bio  Follow         April 2 at 3:02 PM  President Trump abandoned plans to press for a vote on a bill to replace the Affordable Care Act ahead of next year’s elections following a conversation with Senate Majority Leader Mitch McConnell, the Kentucky Republican said Tuesday. McConnell told reporters that he and Trump had “a good conversation” Monday afternoon in which he said that Senate Republicans had no intention of trying to overhaul President Obama’s signature health-care law during a campaign season — a move many in the GOP saw as politically perilous, given that the issue helped Democrats in last year’s midterm elections. “I made it clear to him we were not going to be doing that in the Senate,” McConnell said, also pointing out the difficulty in crafting a bill that could pass the Democratic-led House. “We don’t have a misunderstanding about that.” In tweets late Monday night after the two men had talked, Trump signaled that he was punting on the issue until after next year’s election — suggesting that he believes he would still be in the White House and that Republicans would control both chambers of Congress at that point. “Vote will be taken right after the Election when Republicans hold the Senate & win back the House,” Trump wrote. “It will be truly great HealthCare that will work for America.” [For Trump’s ‘Party of Healthcare,’ there is no health-care plan]    President Trump stopped to talk to members of the media as he walks to Marine One to depart from the South Lawn at the White House on Thursday. (Jabin Botsford/The Washington Post)  McConnell said Tuesday that Trump still plans to develop a health-care plan to present to voters during the campaign but the Senate will not act on any “comprehensive” legislation before 2021. Congressional Republicans were caught off guard by Trump’s rapid shift to focus on health care last week, which was set off by his abrupt decision to direct the Justice Department to intervene in a federal-court case seeking to eliminate the ACA in its entirety on constitutional grounds. Trump later showed up a Senate Republican luncheon where he declared that they should be the “party of health care” and asked for assistance in writing a new bill. It soon became apparent, however, that other Republicans had little appetite to take on an issue that benefited Democrats during last year’s midterm elections. McConnell signaled that he would not play a major role in authoring new health-care legislation, saying he would instead wait to see what the White House produced in consultation with leaders of the Democratic-controlled House.        if(typeof window.powaBoot===\"function\")window.powaBoot();else{window.powaBootBoot=window.powaBootBoot||function(){if(null===document.querySelector(\\'script[src*\\\\x3d\"powaBoot.js\"]\\')){var script=document.createElement(\"script\");var scripts=document.getElementsByTagName(\"script\")[0];script.src=\"https://d1pz6dax0t5mop.cloudfront.net/v/1.5.6/powaBoot.js\";script.async=true;scripts.parentNode.insertBefore(script,scripts);window.havePowaBoot=true}};window.powaBootBoot()};  [The Health 202: Trump’s latest twist on health care] And Senate Finance Committee Chairman Charles E. Grassley (R-Iowa), whose panel would be central to any such debate, also said last week that there was no plan to move forward. In his tweets, Trump claimed that a bill is in the works. “The Republicans are developing a really great HealthCare Plan with far lower premiums (cost) & deductibles than ObamaCare,” he said. “In other words it will be far less expensive & much more usable than ObamaCare.”   Everybody agrees that ObamaCare doesn’t work. Premiums & deductibles are far too high - Really bad HealthCare! Even the Dems want to replace it, but with Medicare for all, which would cause 180 million Americans to lose their beloved private health insurance. The Republicans.....— Donald J. Trump (@realDonaldTrump) April 2, 2019     ....are developing a really great HealthCare Plan with far lower premiums (cost) & deductibles than ObamaCare. In other words it will be far less expensive & much more usable than ObamaCare. Vote will be taken right after the Election when Republicans hold the Senate & win......— Donald J. Trump (@realDonaldTrump) April 2, 2019     ....back the House. It will be truly great HealthCare that will work for America. Also, Republicans will always support Pre-Existing Conditions. The Republican Party will be known as the Party of Great HealtCare. Meantime, the USA is doing better than ever & is respected again!— Donald J. Trump (@realDonaldTrump) April 2, 2019   Despite the delay in legislative action, the Trump administration is continuing to push for the dismantling of the ACA through the courts. On Tuesday morning, House Speaker Nancy Pelosi (D-Calif.) and Senate Minority Leader Charles E. Schumer (D-N.Y.) held an event outside the Supreme Court urging the Justice Department to reverse its position in the case. Democrats in both chambers are introducing resolutions Tuesday to that end. The House plans to vote Wednesday. “We’re here to condemn what the president did,” Pelosi said. “Americans need to know where their representatives stand.” Schumer mocked Trump for pushing off the health-care debate past the elections. “Translation: They have no health-care plan,” he said. “What a ruse. What a shame. What a disgrace. .\\u2009.\\u2009. The American people will not stand for the president playing cynical games with health care.” Sen John Thune (R-S.D.), the No. 2 Senate Republican, said it makes sense to wait until after the election to attempt the large-scale health-insurance overhaul the president was suggesting. Trump probably “looked at the possibility that anything could move, I mean the idea that he could get a Democrat House to agree with the Republican Senate on something he wants to try to get enacted,” Thune said. “My guess is it’s just probably a realistic assessment of what the field looks like for the next couple of years.” Sen. John Cornyn (R-Tex.) said he did not think that Trump’s tweet removed any pressure from Republicans to come up with a health-care solution — an issue he said he would continue to focus on in his own reelection campaign. “That’s one man’s timetable,” Cornyn said of Trump’s declaration that a vote would take place after the elections. “But I intend to continue to try to find ways to provide more affordable choices for people when it comes to their health care.” Sens. Rick Scott (R-Fla.) and Josh Hawley (R-Mo.) held a news conference Tuesday morning to discuss legislation to reduce the cost of prescription drug prices and increase transparency for consumers. Both senators said they were focused on drug prices — something they said they viewed as achievable — not the broader ACA replacement plan the president now says will be put off until after the elections. “I think you’d have to ask the president. I know what I’m going to focus on. I’m going to focus on drug prices,” Scott said when asked about Trump’s declaration that the vote would take place after the elections. Trump previously named Scott as one of the Republican senators working on replacement legislation. “I talk to the president a lot. I called him last week to talk about a couple other issues, and he brought up the fact he’d like me to focus on this, and I told him that what I was working on was prescription drug prices,” Scott said. “I’m a business guy. I didn’t try to do grand bargains.” As Missouri attorney general, Hawley led his state to join others in bringing the lawsuit aimed at overturning the ACA — legal action that the Trump administration is now supporting. Asked whether he had a “moral responsibility” to offer a replacement if the ACA is struck down in court, Hawley said it will remain in place as the case is adjudicated and that “I expect that will take quite some time.” “Obamacare is in place; it’s going to be for the foreseeable future,” Hawley said. “But we need to act now to actually get relief for families who depend on these prescription drugs.”  Seung Min Kim and Josh Dawsey contributed to this report.  '"
      ]
     },
     "execution_count": 17,
     "metadata": {},
     "output_type": "execute_result"
    }
   ],
   "source": [
    "def getTextWaPo(url):\n",
    "    r = requests.get(url)\n",
    "    r.encoding = 'utf-8'\n",
    "    html = r.text\n",
    "    soup = BeautifulSoup(html,\"lxml\")\n",
    "    text = \" \".join(map(lambda p:p.text, soup.find_all('article')))\n",
    "    return text\n",
    "\n",
    "url = \"https://www.washingtonpost.com/politics/trump-punts-vote-on-health-care-bill-until-after-next-years-elections/2019/04/02/068305d2-552c-11e9-8ef3-fbd41a2ce4d5_story.html?utm_term=.843f517b2f18\"\n",
    "getTextWaPo(url)"
   ]
  },
  {
   "cell_type": "code",
   "execution_count": 14,
   "metadata": {},
   "outputs": [],
   "source": [
    "# soup.find() only returns the first element that matches the <article> tag\n",
    "# soup.findall() returns all\n",
    "\n",
    "# there is one paragraph of html code here: I should figure out a way to remove it\n",
    "\n",
    "# if(typeof window.powaBoot===\"function\")window.powaBoot();else{window.powaBootBoot=window.powaBootBoot||function(){if(null===document.querySelector(\\'script[src*\\\\x3d\"powaBoot.js\"]\\')){var script=document.createElement(\"script\");var scripts=document.getElementsByTagName(\"script\")[0];script.src=\"https://d1pz6dax0t5mop.cloudfront.net/v/1.5.6/powaBoot.js\";script.async=true;scripts.parentNode.insertBefore(script,scripts);window.havePowaBoot=true}};window.powaBootBoot()}; "
   ]
  },
  {
   "cell_type": "code",
   "execution_count": 18,
   "metadata": {},
   "outputs": [],
   "source": [
    "from nltk.tokenize import sent_tokenize,word_tokenize\n",
    "from nltk.corpus import stopwords\n",
    "from string import punctuation"
   ]
  },
  {
   "cell_type": "code",
   "execution_count": 39,
   "metadata": {},
   "outputs": [],
   "source": [
    "sents = sent_tokenize(text)\n",
    "word_sent = word_tokenize(text.lower())\n",
    "\n",
    "# remove stopwords\n",
    "_stopwords = set(stopwords.words(\"english\") + list(punctuation)+['’','“','”','—'])\n",
    "word_sent = [word for word in word_sent if word not in _stopwords]"
   ]
  },
  {
   "cell_type": "code",
   "execution_count": 40,
   "metadata": {},
   "outputs": [
    {
     "data": {
      "text/plain": [
       "FreqDist({'trump': 22, 'said': 19, 'senate': 11, 'republicans': 10, 'house': 10, 'president': 9, 'would': 9, '—': 8, \"''\": 8, 'elections': 7, ...})"
      ]
     },
     "execution_count": 40,
     "metadata": {},
     "output_type": "execute_result"
    }
   ],
   "source": [
    "# find the most frequent words in the article\n",
    "from nltk.probability import FreqDist\n",
    "freq = FreqDist(word_sent)"
   ]
  },
  {
   "cell_type": "code",
   "execution_count": 41,
   "metadata": {},
   "outputs": [
    {
     "data": {
      "text/plain": [
       "['trump',\n",
       " 'said',\n",
       " 'senate',\n",
       " 'republicans',\n",
       " 'house',\n",
       " 'president',\n",
       " 'would',\n",
       " '—',\n",
       " \"''\",\n",
       " 'elections']"
      ]
     },
     "execution_count": 41,
     "metadata": {},
     "output_type": "execute_result"
    }
   ],
   "source": [
    "from heapq import nlargest\n",
    "# use nlargest to find the top 10 most frequent keywords in the article\n",
    "nlargest(10,freq,key=freq.get)"
   ]
  },
  {
   "cell_type": "code",
   "execution_count": 45,
   "metadata": {},
   "outputs": [
    {
     "data": {
      "text/plain": [
       "[\"      By  John Wagner and          John Wagner National reporter leading The Post's breaking political news team  Email  Bio  Follow         Erica Werner          Erica Werner Congressional reporter focusing on economic policy  Email  Bio  Follow         April 2 at 3:02 PM  President Trump abandoned plans to press for a vote on a bill to replace the Affordable Care Act ahead of next year’s elections following a conversation with Senate Majority Leader Mitch McConnell, the Kentucky Republican said Tuesday.\",\n",
       " 'McConnell told reporters that he and Trump had “a good conversation” Monday afternoon in which he said that Senate Republicans had no intention of trying to overhaul President Obama’s signature health-care law during a campaign season — a move many in the GOP saw as politically perilous, given that the issue helped Democrats in last year’s midterm elections.',\n",
       " '“It will be truly great HealthCare that will work for America.” [For Trump’s ‘Party of Healthcare,’ there is no health-care plan]    President Trump stopped to talk to members of the media as he walks to Marine One to depart from the South Lawn at the White House on Thursday.',\n",
       " 'if(typeof window.powaBoot===\"function\")window.powaBoot();else{window.powaBootBoot=window.powaBootBoot||function(){if(null===document.querySelector(\\'script[src*\\\\x3d\"powaBoot.js\"]\\')){var script=document.createElement(\"script\");var scripts=document.getElementsByTagName(\"script\")[0];script.src=\"https://d1pz6dax0t5mop.cloudfront.net/v/1.5.6/powaBoot.js\";script.async=true;scripts.parentNode.insertBefore(script,scripts);window.havePowaBoot=true}};window.powaBootBoot()};  [The Health 202: Trump’s latest twist on health care] And Senate Finance Committee Chairman Charles E. Grassley (R-Iowa), whose panel would be central to any such debate, also said last week that there was no plan to move forward.']"
      ]
     },
     "execution_count": 45,
     "metadata": {},
     "output_type": "execute_result"
    }
   ],
   "source": [
    "from collections import defaultdict\n",
    "ranking  = defaultdict(int)\n",
    "\n",
    "# find the most sentences with the most frequent words, and store result into a defaultdict where the keys are the indices of the sentences, and the values are the significance scores for the sentences (which is the sum of the importance of words in that sentence)\n",
    "for i, sent in enumerate(sents):\n",
    "    for w in word_tokenize(sent.lower()):\n",
    "        if w in freq:\n",
    "            ranking[i] +=freq[w]\n",
    "            \n",
    "# find the top 4 sentences from the ranking dictionary\n",
    "\n",
    "sent_index = nlargest(4, ranking,key=ranking.get)\n",
    "sent_index\n",
    "[sents[j] for j in sorted(sent_index)]\n"
   ]
  },
  {
   "cell_type": "code",
   "execution_count": 49,
   "metadata": {},
   "outputs": [],
   "source": [
    "# putting everything together in one function:\n",
    "from nltk.tokenize import sent_tokenize,word_tokenize\n",
    "from nltk.corpus import stopwords\n",
    "from nltk.probability import FreqDist\n",
    "from string import punctuation\n",
    "from collections import defaultdict\n",
    "from heapq import nlargest\n",
    "\n",
    "def summarize(text,n):\n",
    "    sents = sent_tokenize(text)\n",
    "    \n",
    "    assert n <= len(sents) # this checks whether the # of summary lines is smaller than the # of sentences in the article\n",
    "    word_sent = word_tokenize(text.lower())\n",
    "    _stopwords = set(stopwords.words(\"english\") + list(punctuation)+['’','“','”','—'])\n",
    "    \n",
    "    word_sent = [word for word in word_sent if word not in _stopwords]\n",
    "    freq = FreqDist(word_sent)\n",
    "    \n",
    "    ranking = defaultdict(int)\n",
    "    \n",
    "    for i, sent in enumerate(sents):\n",
    "        for w in word_tokenize(sent.lower()):\n",
    "            if w in freq:\n",
    "                ranking[i]+= freq[w]\n",
    "    \n",
    "    sent_index = nlargest(4, ranking,key=ranking.get)\n",
    "    return [sents[j] for j in sorted(sent_index)]\n",
    "    \n",
    "    "
   ]
  },
  {
   "cell_type": "code",
   "execution_count": 50,
   "metadata": {},
   "outputs": [
    {
     "data": {
      "text/plain": [
       "[\"      By  John Wagner and          John Wagner National reporter leading The Post's breaking political news team  Email  Bio  Follow         Erica Werner          Erica Werner Congressional reporter focusing on economic policy  Email  Bio  Follow         April 2 at 3:02 PM  President Trump abandoned plans to press for a vote on a bill to replace the Affordable Care Act ahead of next year’s elections following a conversation with Senate Majority Leader Mitch McConnell, the Kentucky Republican said Tuesday.\",\n",
       " 'McConnell told reporters that he and Trump had “a good conversation” Monday afternoon in which he said that Senate Republicans had no intention of trying to overhaul President Obama’s signature health-care law during a campaign season — a move many in the GOP saw as politically perilous, given that the issue helped Democrats in last year’s midterm elections.',\n",
       " '“It will be truly great HealthCare that will work for America.” [For Trump’s ‘Party of Healthcare,’ there is no health-care plan]    President Trump stopped to talk to members of the media as he walks to Marine One to depart from the South Lawn at the White House on Thursday.',\n",
       " 'if(typeof window.powaBoot===\"function\")window.powaBoot();else{window.powaBootBoot=window.powaBootBoot||function(){if(null===document.querySelector(\\'script[src*\\\\x3d\"powaBoot.js\"]\\')){var script=document.createElement(\"script\");var scripts=document.getElementsByTagName(\"script\")[0];script.src=\"https://d1pz6dax0t5mop.cloudfront.net/v/1.5.6/powaBoot.js\";script.async=true;scripts.parentNode.insertBefore(script,scripts);window.havePowaBoot=true}};window.powaBootBoot()};  [The Health 202: Trump’s latest twist on health care] And Senate Finance Committee Chairman Charles E. Grassley (R-Iowa), whose panel would be central to any such debate, also said last week that there was no plan to move forward.']"
      ]
     },
     "execution_count": 50,
     "metadata": {},
     "output_type": "execute_result"
    }
   ],
   "source": [
    "summarize(text,3)"
   ]
  },
  {
   "cell_type": "markdown",
   "metadata": {},
   "source": [
    "# Part 2: Classifying a text using Machine Learning"
   ]
  },
  {
   "cell_type": "code",
   "execution_count": null,
   "metadata": {},
   "outputs": [],
   "source": [
    "# Feature extraction with bag of words\n",
    "# k-means clustering on themes\n",
    "\n",
    "# Objective: to build text corpus through collecting artciles from a blog"
   ]
  },
  {
   "cell_type": "markdown",
   "metadata": {},
   "source": [
    "## Step 1: create a link of all posts in this blogspot site"
   ]
  },
  {
   "cell_type": "code",
   "execution_count": 1,
   "metadata": {},
   "outputs": [
    {
     "name": "stdout",
     "output_type": "stream",
     "text": [
      "Older Posts https://doxydonkey.blogspot.com/search?updated-max=2017-05-23T19:53:00-07:00&max-results=7\n",
      "Older Posts https://doxydonkey.blogspot.com/search?updated-max=2017-05-14T19:02:00-07:00&max-results=7&start=7&by-date=false\n",
      "Older Posts https://doxydonkey.blogspot.com/search?updated-max=2017-05-02T19:43:00-07:00&max-results=7&start=14&by-date=false\n",
      "Older Posts https://doxydonkey.blogspot.com/search?updated-max=2017-04-17T19:26:00-07:00&max-results=7&start=21&by-date=false\n",
      "Older Posts https://doxydonkey.blogspot.com/search?updated-max=2017-04-10T18:56:00-07:00&max-results=7&start=28&by-date=false\n",
      "Older Posts https://doxydonkey.blogspot.com/search?updated-max=2017-03-30T19:57:00-07:00&max-results=7&start=35&by-date=false\n",
      "Older Posts https://doxydonkey.blogspot.com/search?updated-max=2017-03-20T19:47:00-07:00&max-results=7&start=42&by-date=false\n",
      "Older Posts https://doxydonkey.blogspot.com/search?updated-max=2017-03-02T17:42:00-08:00&max-results=7&start=49&by-date=false\n",
      "Older Posts https://doxydonkey.blogspot.com/search?updated-max=2017-02-21T19:13:00-08:00&max-results=7&start=56&by-date=false\n",
      "Older Posts https://doxydonkey.blogspot.com/search?updated-max=2017-02-12T18:34:00-08:00&max-results=7&start=63&by-date=false\n",
      "Older Posts https://doxydonkey.blogspot.com/search?updated-max=2017-02-01T18:56:00-08:00&max-results=7&start=70&by-date=false\n",
      "Older Posts https://doxydonkey.blogspot.com/search?updated-max=2017-01-22T18:58:00-08:00&max-results=7&start=77&by-date=false\n",
      "Older Posts https://doxydonkey.blogspot.com/search?updated-max=2017-01-11T18:09:00-08:00&max-results=7&start=84&by-date=false\n",
      "Older Posts https://doxydonkey.blogspot.com/search?updated-max=2017-01-02T17:59:00-08:00&max-results=7&start=91&by-date=false\n",
      "Older Posts https://doxydonkey.blogspot.com/search?updated-max=2016-12-22T18:58:00-08:00&max-results=7&start=98&by-date=false\n",
      "Older Posts https://doxydonkey.blogspot.com/search?updated-max=2016-12-13T18:57:00-08:00&max-results=7&start=105&by-date=false\n",
      "Older Posts https://doxydonkey.blogspot.com/search?updated-max=2016-12-04T18:58:00-08:00&max-results=7&start=112&by-date=false\n",
      "Older Posts https://doxydonkey.blogspot.com/search?updated-max=2016-09-09T07:34:00-07:00&max-results=7&start=119&by-date=false\n",
      "Older Posts https://doxydonkey.blogspot.com/search?updated-max=2016-08-28T20:08:00-07:00&max-results=7&start=126&by-date=false\n",
      "Older Posts https://doxydonkey.blogspot.com/search?updated-max=2016-08-17T19:24:00-07:00&max-results=7&start=133&by-date=false\n",
      "Older Posts https://doxydonkey.blogspot.com/search?updated-max=2016-08-07T20:30:00-07:00&max-results=7&start=140&by-date=false\n",
      "Older Posts https://doxydonkey.blogspot.com/search?updated-max=2016-07-26T19:55:00-07:00&max-results=7&start=147&by-date=false\n",
      "Older Posts https://doxydonkey.blogspot.com/search?updated-max=2016-07-17T19:47:00-07:00&max-results=7&start=154&by-date=false\n",
      "Older Posts https://doxydonkey.blogspot.com/search?updated-max=2016-07-06T19:34:00-07:00&max-results=7&start=161&by-date=false\n",
      "Older Posts https://doxydonkey.blogspot.com/search?updated-max=2016-06-26T19:36:00-07:00&max-results=7&start=168&by-date=false\n",
      "Older Posts https://doxydonkey.blogspot.com/search?updated-max=2016-06-15T19:23:00-07:00&max-results=7&start=175&by-date=false\n",
      "Older Posts https://doxydonkey.blogspot.com/search?updated-max=2016-06-06T18:50:00-07:00&max-results=7&start=182&by-date=false\n",
      "Older Posts https://doxydonkey.blogspot.com/search?updated-max=2016-05-26T20:08:00-07:00&max-results=7&start=189&by-date=false\n",
      "Older Posts https://doxydonkey.blogspot.com/search?updated-max=2016-05-17T18:52:00-07:00&max-results=7&start=196&by-date=false\n",
      "Older Posts https://doxydonkey.blogspot.com/search?updated-max=2016-05-06T19:26:00-07:00&max-results=7&start=203&by-date=false\n",
      "Older Posts https://doxydonkey.blogspot.com/search?updated-max=2016-04-27T19:03:00-07:00&max-results=7&start=210&by-date=false\n",
      "Older Posts https://doxydonkey.blogspot.com/search?updated-max=2016-04-19T19:36:00-07:00&max-results=7&start=217&by-date=false\n",
      "Older Posts https://doxydonkey.blogspot.com/search?updated-max=2016-04-10T19:19:00-07:00&max-results=7&start=224&by-date=false\n",
      "Older Posts https://doxydonkey.blogspot.com/search?updated-max=2016-03-30T19:12:00-07:00&max-results=7&start=231&by-date=false\n",
      "Older Posts https://doxydonkey.blogspot.com/search?updated-max=2016-03-20T18:41:00-07:00&max-results=7&start=238&by-date=false\n",
      "Older Posts https://doxydonkey.blogspot.com/search?updated-max=2016-03-09T18:38:00-08:00&max-results=7&start=245&by-date=false\n",
      "Older Posts https://doxydonkey.blogspot.com/search?updated-max=2016-02-28T17:47:00-08:00&max-results=7&start=252&by-date=false\n",
      "Older Posts https://doxydonkey.blogspot.com/search?updated-max=2016-02-17T18:44:00-08:00&max-results=7&start=259&by-date=false\n",
      "Older Posts https://doxydonkey.blogspot.com/search?updated-max=2016-02-08T18:13:00-08:00&max-results=7&start=266&by-date=false\n",
      "Older Posts https://doxydonkey.blogspot.com/search?updated-max=2016-01-28T19:45:00-08:00&max-results=7&start=273&by-date=false\n",
      "Older Posts https://doxydonkey.blogspot.com/search?updated-max=2016-01-18T18:30:00-08:00&max-results=7&start=280&by-date=false\n",
      "Older Posts https://doxydonkey.blogspot.com/search?updated-max=2016-01-07T19:03:00-08:00&max-results=7&start=287&by-date=false\n",
      "Older Posts https://doxydonkey.blogspot.com/search?updated-max=2015-12-28T18:26:00-08:00&max-results=7&start=294&by-date=false\n",
      "Older Posts https://doxydonkey.blogspot.com/search?updated-max=2015-12-16T18:24:00-08:00&max-results=7&start=301&by-date=false\n",
      "Older Posts https://doxydonkey.blogspot.com/search?updated-max=2015-12-07T18:24:00-08:00&max-results=7&start=308&by-date=false\n",
      "Older Posts https://doxydonkey.blogspot.com/search?updated-max=2015-11-26T17:49:00-08:00&max-results=7&start=315&by-date=false\n",
      "Older Posts https://doxydonkey.blogspot.com/search?updated-max=2015-11-17T18:18:00-08:00&max-results=7&start=322&by-date=false\n",
      "Older Posts https://doxydonkey.blogspot.com/search?updated-max=2015-11-05T20:15:00-08:00&max-results=7&start=329&by-date=false\n",
      "Older Posts https://doxydonkey.blogspot.com/search?updated-max=2015-10-27T20:04:00-07:00&max-results=7&start=336&by-date=false\n",
      "Older Posts https://doxydonkey.blogspot.com/search?updated-max=2015-10-12T19:45:00-07:00&max-results=7&start=343&by-date=false\n",
      "Older Posts https://doxydonkey.blogspot.com/search?updated-max=2015-09-30T19:33:00-07:00&max-results=7&start=350&by-date=false\n",
      "Older Posts https://doxydonkey.blogspot.com/search?updated-max=2015-09-20T19:11:00-07:00&max-results=7&start=357&by-date=false\n",
      "Older Posts https://doxydonkey.blogspot.com/search?updated-max=2015-09-09T19:32:00-07:00&max-results=7&start=364&by-date=false\n",
      "Older Posts https://doxydonkey.blogspot.com/search?updated-max=2015-08-31T19:31:00-07:00&max-results=7&start=371&by-date=false\n",
      "Older Posts https://doxydonkey.blogspot.com/search?updated-max=2015-08-20T19:29:00-07:00&max-results=7&start=378&by-date=false\n",
      "Older Posts https://doxydonkey.blogspot.com/search?updated-max=2015-08-11T19:32:00-07:00&max-results=7&start=385&by-date=false\n",
      "Older Posts https://doxydonkey.blogspot.com/search?updated-max=2015-08-02T19:04:00-07:00&max-results=7&start=392&by-date=false\n",
      "Older Posts https://doxydonkey.blogspot.com/search?updated-max=2015-07-22T19:39:00-07:00&max-results=7&start=399&by-date=false\n",
      "Older Posts https://doxydonkey.blogspot.com/search?updated-max=2015-07-13T19:38:00-07:00&max-results=7&start=406&by-date=false\n",
      "Older Posts https://doxydonkey.blogspot.com/search?updated-max=2015-07-02T21:15:00-07:00&max-results=7&start=413&by-date=false\n",
      "Older Posts https://doxydonkey.blogspot.com/search?updated-max=2015-06-23T19:30:00-07:00&max-results=7&start=420&by-date=false\n",
      "Older Posts https://doxydonkey.blogspot.com/search?updated-max=2015-06-14T19:36:00-07:00&max-results=7&start=427&by-date=false\n",
      "Older Posts https://doxydonkey.blogspot.com/search?updated-max=2015-06-02T19:38:00-07:00&max-results=7&start=434&by-date=false\n",
      "Older Posts https://doxydonkey.blogspot.com/search?updated-max=2015-05-24T20:16:00-07:00&max-results=7&start=441&by-date=false\n",
      "Older Posts https://doxydonkey.blogspot.com/search?updated-max=2015-05-13T20:18:00-07:00&max-results=7&start=448&by-date=false\n"
     ]
    },
    {
     "name": "stdout",
     "output_type": "stream",
     "text": [
      "Older Posts https://doxydonkey.blogspot.com/search?updated-max=2015-05-04T20:23:00-07:00&max-results=7&start=455&by-date=false\n",
      "Older Posts https://doxydonkey.blogspot.com/search?updated-max=2015-04-23T20:19:00-07:00&max-results=7&start=462&by-date=false\n",
      "Older Posts https://doxydonkey.blogspot.com/search?updated-max=2015-04-14T19:40:00-07:00&max-results=7&start=469&by-date=false\n",
      "Older Posts https://doxydonkey.blogspot.com/search?updated-max=2015-04-05T20:22:00-07:00&max-results=7&start=476&by-date=false\n",
      "Older Posts https://doxydonkey.blogspot.com/search?updated-max=2015-03-24T20:12:00-07:00&max-results=7&start=483&by-date=false\n",
      "Older Posts https://doxydonkey.blogspot.com/search?updated-max=2015-03-15T20:41:00-07:00&max-results=7&start=490&by-date=false\n",
      "Older Posts https://doxydonkey.blogspot.com/search?updated-max=2015-03-03T19:30:00-08:00&max-results=7&start=497&by-date=false\n",
      "Older Posts https://doxydonkey.blogspot.com/search?updated-max=2015-02-22T19:55:00-08:00&max-results=7&start=504&by-date=false\n",
      "Older Posts https://doxydonkey.blogspot.com/search?updated-max=2015-02-11T20:02:00-08:00&max-results=7&start=511&by-date=false\n",
      "Older Posts https://doxydonkey.blogspot.com/search?updated-max=2015-02-02T19:46:00-08:00&max-results=7&start=518&by-date=false\n",
      "Older Posts https://doxydonkey.blogspot.com/search?updated-max=2015-01-22T19:50:00-08:00&max-results=7&start=524&by-date=false\n",
      "Older Posts https://doxydonkey.blogspot.com/search?updated-max=2015-01-15T19:17:00-08:00&max-results=7&start=529&by-date=false\n",
      "Older Posts https://doxydonkey.blogspot.com/search?updated-max=2015-01-06T19:48:00-08:00&max-results=7&start=536&by-date=false\n",
      "Older Posts https://doxydonkey.blogspot.com/search?updated-max=2014-12-25T21:30:00-08:00&max-results=7&start=543&by-date=false\n",
      "Older Posts https://doxydonkey.blogspot.com/search?updated-max=2014-12-15T19:24:00-08:00&max-results=7&start=550&by-date=false\n",
      "Older Posts https://doxydonkey.blogspot.com/search?updated-max=2014-12-05T01:52:00-08:00&max-results=7&start=557&by-date=false\n",
      "Older Posts https://doxydonkey.blogspot.com/search?updated-max=2014-11-26T01:44:00-08:00&max-results=7&start=564&by-date=false\n",
      "Older Posts https://doxydonkey.blogspot.com/search?updated-max=2014-11-17T01:41:00-08:00&max-results=7&start=571&by-date=false\n",
      "Older Posts https://doxydonkey.blogspot.com/search?updated-max=2014-11-06T01:38:00-08:00&max-results=7&start=578&by-date=false\n",
      "Older Posts https://doxydonkey.blogspot.com/search?updated-max=2014-10-28T01:24:00-07:00&max-results=7&start=585&by-date=false\n",
      "Older Posts https://doxydonkey.blogspot.com/search?updated-max=2014-10-17T01:20:00-07:00&max-results=7&start=592&by-date=false\n"
     ]
    },
    {
     "data": {
      "text/plain": [
       "['https://doxydonkey.blogspot.com/search?updated-max=2017-05-23T19:53:00-07:00&max-results=7',\n",
       " 'https://doxydonkey.blogspot.com/search?updated-max=2017-05-14T19:02:00-07:00&max-results=7&start=7&by-date=false',\n",
       " 'https://doxydonkey.blogspot.com/search?updated-max=2017-05-02T19:43:00-07:00&max-results=7&start=14&by-date=false',\n",
       " 'https://doxydonkey.blogspot.com/search?updated-max=2017-04-17T19:26:00-07:00&max-results=7&start=21&by-date=false',\n",
       " 'https://doxydonkey.blogspot.com/search?updated-max=2017-04-10T18:56:00-07:00&max-results=7&start=28&by-date=false',\n",
       " 'https://doxydonkey.blogspot.com/search?updated-max=2017-03-30T19:57:00-07:00&max-results=7&start=35&by-date=false',\n",
       " 'https://doxydonkey.blogspot.com/search?updated-max=2017-03-20T19:47:00-07:00&max-results=7&start=42&by-date=false',\n",
       " 'https://doxydonkey.blogspot.com/search?updated-max=2017-03-02T17:42:00-08:00&max-results=7&start=49&by-date=false',\n",
       " 'https://doxydonkey.blogspot.com/search?updated-max=2017-02-21T19:13:00-08:00&max-results=7&start=56&by-date=false',\n",
       " 'https://doxydonkey.blogspot.com/search?updated-max=2017-02-12T18:34:00-08:00&max-results=7&start=63&by-date=false',\n",
       " 'https://doxydonkey.blogspot.com/search?updated-max=2017-02-01T18:56:00-08:00&max-results=7&start=70&by-date=false',\n",
       " 'https://doxydonkey.blogspot.com/search?updated-max=2017-01-22T18:58:00-08:00&max-results=7&start=77&by-date=false',\n",
       " 'https://doxydonkey.blogspot.com/search?updated-max=2017-01-11T18:09:00-08:00&max-results=7&start=84&by-date=false',\n",
       " 'https://doxydonkey.blogspot.com/search?updated-max=2017-01-02T17:59:00-08:00&max-results=7&start=91&by-date=false',\n",
       " 'https://doxydonkey.blogspot.com/search?updated-max=2016-12-22T18:58:00-08:00&max-results=7&start=98&by-date=false',\n",
       " 'https://doxydonkey.blogspot.com/search?updated-max=2016-12-13T18:57:00-08:00&max-results=7&start=105&by-date=false',\n",
       " 'https://doxydonkey.blogspot.com/search?updated-max=2016-12-04T18:58:00-08:00&max-results=7&start=112&by-date=false',\n",
       " 'https://doxydonkey.blogspot.com/search?updated-max=2016-09-09T07:34:00-07:00&max-results=7&start=119&by-date=false',\n",
       " 'https://doxydonkey.blogspot.com/search?updated-max=2016-08-28T20:08:00-07:00&max-results=7&start=126&by-date=false',\n",
       " 'https://doxydonkey.blogspot.com/search?updated-max=2016-08-17T19:24:00-07:00&max-results=7&start=133&by-date=false',\n",
       " 'https://doxydonkey.blogspot.com/search?updated-max=2016-08-07T20:30:00-07:00&max-results=7&start=140&by-date=false',\n",
       " 'https://doxydonkey.blogspot.com/search?updated-max=2016-07-26T19:55:00-07:00&max-results=7&start=147&by-date=false',\n",
       " 'https://doxydonkey.blogspot.com/search?updated-max=2016-07-17T19:47:00-07:00&max-results=7&start=154&by-date=false',\n",
       " 'https://doxydonkey.blogspot.com/search?updated-max=2016-07-06T19:34:00-07:00&max-results=7&start=161&by-date=false',\n",
       " 'https://doxydonkey.blogspot.com/search?updated-max=2016-06-26T19:36:00-07:00&max-results=7&start=168&by-date=false',\n",
       " 'https://doxydonkey.blogspot.com/search?updated-max=2016-06-15T19:23:00-07:00&max-results=7&start=175&by-date=false',\n",
       " 'https://doxydonkey.blogspot.com/search?updated-max=2016-06-06T18:50:00-07:00&max-results=7&start=182&by-date=false',\n",
       " 'https://doxydonkey.blogspot.com/search?updated-max=2016-05-26T20:08:00-07:00&max-results=7&start=189&by-date=false',\n",
       " 'https://doxydonkey.blogspot.com/search?updated-max=2016-05-17T18:52:00-07:00&max-results=7&start=196&by-date=false',\n",
       " 'https://doxydonkey.blogspot.com/search?updated-max=2016-05-06T19:26:00-07:00&max-results=7&start=203&by-date=false',\n",
       " 'https://doxydonkey.blogspot.com/search?updated-max=2016-04-27T19:03:00-07:00&max-results=7&start=210&by-date=false',\n",
       " 'https://doxydonkey.blogspot.com/search?updated-max=2016-04-19T19:36:00-07:00&max-results=7&start=217&by-date=false',\n",
       " 'https://doxydonkey.blogspot.com/search?updated-max=2016-04-10T19:19:00-07:00&max-results=7&start=224&by-date=false',\n",
       " 'https://doxydonkey.blogspot.com/search?updated-max=2016-03-30T19:12:00-07:00&max-results=7&start=231&by-date=false',\n",
       " 'https://doxydonkey.blogspot.com/search?updated-max=2016-03-20T18:41:00-07:00&max-results=7&start=238&by-date=false',\n",
       " 'https://doxydonkey.blogspot.com/search?updated-max=2016-03-09T18:38:00-08:00&max-results=7&start=245&by-date=false',\n",
       " 'https://doxydonkey.blogspot.com/search?updated-max=2016-02-28T17:47:00-08:00&max-results=7&start=252&by-date=false',\n",
       " 'https://doxydonkey.blogspot.com/search?updated-max=2016-02-17T18:44:00-08:00&max-results=7&start=259&by-date=false',\n",
       " 'https://doxydonkey.blogspot.com/search?updated-max=2016-02-08T18:13:00-08:00&max-results=7&start=266&by-date=false',\n",
       " 'https://doxydonkey.blogspot.com/search?updated-max=2016-01-28T19:45:00-08:00&max-results=7&start=273&by-date=false',\n",
       " 'https://doxydonkey.blogspot.com/search?updated-max=2016-01-18T18:30:00-08:00&max-results=7&start=280&by-date=false',\n",
       " 'https://doxydonkey.blogspot.com/search?updated-max=2016-01-07T19:03:00-08:00&max-results=7&start=287&by-date=false',\n",
       " 'https://doxydonkey.blogspot.com/search?updated-max=2015-12-28T18:26:00-08:00&max-results=7&start=294&by-date=false',\n",
       " 'https://doxydonkey.blogspot.com/search?updated-max=2015-12-16T18:24:00-08:00&max-results=7&start=301&by-date=false',\n",
       " 'https://doxydonkey.blogspot.com/search?updated-max=2015-12-07T18:24:00-08:00&max-results=7&start=308&by-date=false',\n",
       " 'https://doxydonkey.blogspot.com/search?updated-max=2015-11-26T17:49:00-08:00&max-results=7&start=315&by-date=false',\n",
       " 'https://doxydonkey.blogspot.com/search?updated-max=2015-11-17T18:18:00-08:00&max-results=7&start=322&by-date=false',\n",
       " 'https://doxydonkey.blogspot.com/search?updated-max=2015-11-05T20:15:00-08:00&max-results=7&start=329&by-date=false',\n",
       " 'https://doxydonkey.blogspot.com/search?updated-max=2015-10-27T20:04:00-07:00&max-results=7&start=336&by-date=false',\n",
       " 'https://doxydonkey.blogspot.com/search?updated-max=2015-10-12T19:45:00-07:00&max-results=7&start=343&by-date=false',\n",
       " 'https://doxydonkey.blogspot.com/search?updated-max=2015-09-30T19:33:00-07:00&max-results=7&start=350&by-date=false',\n",
       " 'https://doxydonkey.blogspot.com/search?updated-max=2015-09-20T19:11:00-07:00&max-results=7&start=357&by-date=false',\n",
       " 'https://doxydonkey.blogspot.com/search?updated-max=2015-09-09T19:32:00-07:00&max-results=7&start=364&by-date=false',\n",
       " 'https://doxydonkey.blogspot.com/search?updated-max=2015-08-31T19:31:00-07:00&max-results=7&start=371&by-date=false',\n",
       " 'https://doxydonkey.blogspot.com/search?updated-max=2015-08-20T19:29:00-07:00&max-results=7&start=378&by-date=false',\n",
       " 'https://doxydonkey.blogspot.com/search?updated-max=2015-08-11T19:32:00-07:00&max-results=7&start=385&by-date=false',\n",
       " 'https://doxydonkey.blogspot.com/search?updated-max=2015-08-02T19:04:00-07:00&max-results=7&start=392&by-date=false',\n",
       " 'https://doxydonkey.blogspot.com/search?updated-max=2015-07-22T19:39:00-07:00&max-results=7&start=399&by-date=false',\n",
       " 'https://doxydonkey.blogspot.com/search?updated-max=2015-07-13T19:38:00-07:00&max-results=7&start=406&by-date=false',\n",
       " 'https://doxydonkey.blogspot.com/search?updated-max=2015-07-02T21:15:00-07:00&max-results=7&start=413&by-date=false',\n",
       " 'https://doxydonkey.blogspot.com/search?updated-max=2015-06-23T19:30:00-07:00&max-results=7&start=420&by-date=false',\n",
       " 'https://doxydonkey.blogspot.com/search?updated-max=2015-06-14T19:36:00-07:00&max-results=7&start=427&by-date=false',\n",
       " 'https://doxydonkey.blogspot.com/search?updated-max=2015-06-02T19:38:00-07:00&max-results=7&start=434&by-date=false',\n",
       " 'https://doxydonkey.blogspot.com/search?updated-max=2015-05-24T20:16:00-07:00&max-results=7&start=441&by-date=false',\n",
       " 'https://doxydonkey.blogspot.com/search?updated-max=2015-05-13T20:18:00-07:00&max-results=7&start=448&by-date=false',\n",
       " 'https://doxydonkey.blogspot.com/search?updated-max=2015-05-04T20:23:00-07:00&max-results=7&start=455&by-date=false',\n",
       " 'https://doxydonkey.blogspot.com/search?updated-max=2015-04-23T20:19:00-07:00&max-results=7&start=462&by-date=false',\n",
       " 'https://doxydonkey.blogspot.com/search?updated-max=2015-04-14T19:40:00-07:00&max-results=7&start=469&by-date=false',\n",
       " 'https://doxydonkey.blogspot.com/search?updated-max=2015-04-05T20:22:00-07:00&max-results=7&start=476&by-date=false',\n",
       " 'https://doxydonkey.blogspot.com/search?updated-max=2015-03-24T20:12:00-07:00&max-results=7&start=483&by-date=false',\n",
       " 'https://doxydonkey.blogspot.com/search?updated-max=2015-03-15T20:41:00-07:00&max-results=7&start=490&by-date=false',\n",
       " 'https://doxydonkey.blogspot.com/search?updated-max=2015-03-03T19:30:00-08:00&max-results=7&start=497&by-date=false',\n",
       " 'https://doxydonkey.blogspot.com/search?updated-max=2015-02-22T19:55:00-08:00&max-results=7&start=504&by-date=false',\n",
       " 'https://doxydonkey.blogspot.com/search?updated-max=2015-02-11T20:02:00-08:00&max-results=7&start=511&by-date=false',\n",
       " 'https://doxydonkey.blogspot.com/search?updated-max=2015-02-02T19:46:00-08:00&max-results=7&start=518&by-date=false',\n",
       " 'https://doxydonkey.blogspot.com/search?updated-max=2015-01-22T19:50:00-08:00&max-results=7&start=524&by-date=false',\n",
       " 'https://doxydonkey.blogspot.com/search?updated-max=2015-01-15T19:17:00-08:00&max-results=7&start=529&by-date=false',\n",
       " 'https://doxydonkey.blogspot.com/search?updated-max=2015-01-06T19:48:00-08:00&max-results=7&start=536&by-date=false',\n",
       " 'https://doxydonkey.blogspot.com/search?updated-max=2014-12-25T21:30:00-08:00&max-results=7&start=543&by-date=false',\n",
       " 'https://doxydonkey.blogspot.com/search?updated-max=2014-12-15T19:24:00-08:00&max-results=7&start=550&by-date=false',\n",
       " 'https://doxydonkey.blogspot.com/search?updated-max=2014-12-05T01:52:00-08:00&max-results=7&start=557&by-date=false',\n",
       " 'https://doxydonkey.blogspot.com/search?updated-max=2014-11-26T01:44:00-08:00&max-results=7&start=564&by-date=false',\n",
       " 'https://doxydonkey.blogspot.com/search?updated-max=2014-11-17T01:41:00-08:00&max-results=7&start=571&by-date=false',\n",
       " 'https://doxydonkey.blogspot.com/search?updated-max=2014-11-06T01:38:00-08:00&max-results=7&start=578&by-date=false',\n",
       " 'https://doxydonkey.blogspot.com/search?updated-max=2014-10-28T01:24:00-07:00&max-results=7&start=585&by-date=false',\n",
       " 'https://doxydonkey.blogspot.com/search?updated-max=2014-10-17T01:20:00-07:00&max-results=7&start=592&by-date=false']"
      ]
     },
     "execution_count": 1,
     "metadata": {},
     "output_type": "execute_result"
    }
   ],
   "source": [
    "import requests\n",
    "from bs4 import BeautifulSoup\n",
    "\n",
    "def getAllDoxyDonkeyPosts(url,links):\n",
    "    r = requests.get(url)\n",
    "    r.encoding = \"utf-8\"\n",
    "    html = r.text\n",
    "    soup = BeautifulSoup(html,\"lxml\")\n",
    "    for a in soup.findAll(\"a\"): # find all links on the blog pages\n",
    "        try:\n",
    "            url = a[\"href\"]\n",
    "            title = a[\"title\"]\n",
    "            if title == \"Older Posts\":\n",
    "                print(title, url)\n",
    "                links.append(url)\n",
    "                getAllDoxyDonkeyPosts(url,links)\n",
    "        except:\n",
    "            title = \"\"\n",
    "    return links\n",
    "\n",
    "\n",
    "blogURL = \"https://doxydonkey.blogspot.com/\"\n",
    "links = []\n",
    "getAllDoxyDonkeyPosts(blogURL, links)\n",
    "                \n",
    "\n",
    "\n"
   ]
  },
  {
   "cell_type": "markdown",
   "metadata": {},
   "source": [
    "## Step 2: crawl content of all posts on this site"
   ]
  },
  {
   "cell_type": "code",
   "execution_count": null,
   "metadata": {},
   "outputs": [],
   "source": [
    "def getDoxyDonkeyText(URL):\n",
    "    r = requests.get(URL)\n",
    "    r.encoding = \"utf-8\"\n",
    "    html = r.text\n",
    "    soup = BeautifulSoup(html,\"lxml\")\n",
    "    divs = soup.findAll(\"div\",{\"class\":\"post-body\"}) #find all divs on the blog post page which has the class name \"post-body\"\n",
    "    posts = []\n",
    "    for div in divs:\n",
    "        for i in div.findAll(\"li\"):\n",
    "            posts.append(i)\n",
    "        #posts += list(map(lambda p:p.text.encode(\"ascii\",errors=\"replace\").replace(\"?\",\" \"),div.findAll(\"li\")))\n",
    "    return posts\n",
    "\n",
    "\n",
    "allPosts = []\n",
    "\n",
    "for link in links:\n",
    "    allPosts +=getDoxyDonkeyText(link)"
   ]
  },
  {
   "cell_type": "code",
   "execution_count": null,
   "metadata": {},
   "outputs": [],
   "source": [
    "allPosts"
   ]
  },
  {
   "cell_type": "code",
   "execution_count": null,
   "metadata": {},
   "outputs": [],
   "source": []
  }
 ],
 "metadata": {
  "kernelspec": {
   "display_name": "Python 3",
   "language": "python",
   "name": "python3"
  },
  "language_info": {
   "codemirror_mode": {
    "name": "ipython",
    "version": 3
   },
   "file_extension": ".py",
   "mimetype": "text/x-python",
   "name": "python",
   "nbconvert_exporter": "python",
   "pygments_lexer": "ipython3",
   "version": "3.7.0"
  }
 },
 "nbformat": 4,
 "nbformat_minor": 2
}
