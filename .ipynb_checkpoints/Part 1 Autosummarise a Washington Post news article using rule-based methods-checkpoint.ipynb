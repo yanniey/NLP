{
 "cells": [
  {
   "cell_type": "markdown",
   "metadata": {},
   "source": [
    "## Python 3 version of the Pluralsight course: Getting Started with Natural Language Processing with Python"
   ]
  },
  {
   "cell_type": "markdown",
   "metadata": {},
   "source": [
    "# Part 1: Autosummarise a Washington Post news article using rule-based methods"
   ]
  },
  {
   "cell_type": "code",
   "execution_count": 3,
   "metadata": {},
   "outputs": [],
   "source": [
    "import requests\n",
    "from bs4 import BeautifulSoup"
   ]
  },
  {
   "cell_type": "code",
   "execution_count": 17,
   "metadata": {},
   "outputs": [
    {
     "data": {
      "text/plain": [
       "'      By  John Wagner and          John Wagner National reporter leading The Post\\'s breaking political news team  Email  Bio  Follow         Erica Werner          Erica Werner Congressional reporter focusing on economic policy  Email  Bio  Follow         April 2 at 3:02 PM  President Trump abandoned plans to press for a vote on a bill to replace the Affordable Care Act ahead of next year’s elections following a conversation with Senate Majority Leader Mitch McConnell, the Kentucky Republican said Tuesday. McConnell told reporters that he and Trump had “a good conversation” Monday afternoon in which he said that Senate Republicans had no intention of trying to overhaul President Obama’s signature health-care law during a campaign season — a move many in the GOP saw as politically perilous, given that the issue helped Democrats in last year’s midterm elections. “I made it clear to him we were not going to be doing that in the Senate,” McConnell said, also pointing out the difficulty in crafting a bill that could pass the Democratic-led House. “We don’t have a misunderstanding about that.” In tweets late Monday night after the two men had talked, Trump signaled that he was punting on the issue until after next year’s election — suggesting that he believes he would still be in the White House and that Republicans would control both chambers of Congress at that point. “Vote will be taken right after the Election when Republicans hold the Senate & win back the House,” Trump wrote. “It will be truly great HealthCare that will work for America.” [For Trump’s ‘Party of Healthcare,’ there is no health-care plan]    President Trump stopped to talk to members of the media as he walks to Marine One to depart from the South Lawn at the White House on Thursday. (Jabin Botsford/The Washington Post)  McConnell said Tuesday that Trump still plans to develop a health-care plan to present to voters during the campaign but the Senate will not act on any “comprehensive” legislation before 2021. Congressional Republicans were caught off guard by Trump’s rapid shift to focus on health care last week, which was set off by his abrupt decision to direct the Justice Department to intervene in a federal-court case seeking to eliminate the ACA in its entirety on constitutional grounds. Trump later showed up a Senate Republican luncheon where he declared that they should be the “party of health care” and asked for assistance in writing a new bill. It soon became apparent, however, that other Republicans had little appetite to take on an issue that benefited Democrats during last year’s midterm elections. McConnell signaled that he would not play a major role in authoring new health-care legislation, saying he would instead wait to see what the White House produced in consultation with leaders of the Democratic-controlled House.        if(typeof window.powaBoot===\"function\")window.powaBoot();else{window.powaBootBoot=window.powaBootBoot||function(){if(null===document.querySelector(\\'script[src*\\\\x3d\"powaBoot.js\"]\\')){var script=document.createElement(\"script\");var scripts=document.getElementsByTagName(\"script\")[0];script.src=\"https://d1pz6dax0t5mop.cloudfront.net/v/1.5.6/powaBoot.js\";script.async=true;scripts.parentNode.insertBefore(script,scripts);window.havePowaBoot=true}};window.powaBootBoot()};  [The Health 202: Trump’s latest twist on health care] And Senate Finance Committee Chairman Charles E. Grassley (R-Iowa), whose panel would be central to any such debate, also said last week that there was no plan to move forward. In his tweets, Trump claimed that a bill is in the works. “The Republicans are developing a really great HealthCare Plan with far lower premiums (cost) & deductibles than ObamaCare,” he said. “In other words it will be far less expensive & much more usable than ObamaCare.”   Everybody agrees that ObamaCare doesn’t work. Premiums & deductibles are far too high - Really bad HealthCare! Even the Dems want to replace it, but with Medicare for all, which would cause 180 million Americans to lose their beloved private health insurance. The Republicans.....— Donald J. Trump (@realDonaldTrump) April 2, 2019     ....are developing a really great HealthCare Plan with far lower premiums (cost) & deductibles than ObamaCare. In other words it will be far less expensive & much more usable than ObamaCare. Vote will be taken right after the Election when Republicans hold the Senate & win......— Donald J. Trump (@realDonaldTrump) April 2, 2019     ....back the House. It will be truly great HealthCare that will work for America. Also, Republicans will always support Pre-Existing Conditions. The Republican Party will be known as the Party of Great HealtCare. Meantime, the USA is doing better than ever & is respected again!— Donald J. Trump (@realDonaldTrump) April 2, 2019   Despite the delay in legislative action, the Trump administration is continuing to push for the dismantling of the ACA through the courts. On Tuesday morning, House Speaker Nancy Pelosi (D-Calif.) and Senate Minority Leader Charles E. Schumer (D-N.Y.) held an event outside the Supreme Court urging the Justice Department to reverse its position in the case. Democrats in both chambers are introducing resolutions Tuesday to that end. The House plans to vote Wednesday. “We’re here to condemn what the president did,” Pelosi said. “Americans need to know where their representatives stand.” Schumer mocked Trump for pushing off the health-care debate past the elections. “Translation: They have no health-care plan,” he said. “What a ruse. What a shame. What a disgrace. .\\u2009.\\u2009. The American people will not stand for the president playing cynical games with health care.” Sen John Thune (R-S.D.), the No. 2 Senate Republican, said it makes sense to wait until after the election to attempt the large-scale health-insurance overhaul the president was suggesting. Trump probably “looked at the possibility that anything could move, I mean the idea that he could get a Democrat House to agree with the Republican Senate on something he wants to try to get enacted,” Thune said. “My guess is it’s just probably a realistic assessment of what the field looks like for the next couple of years.” Sen. John Cornyn (R-Tex.) said he did not think that Trump’s tweet removed any pressure from Republicans to come up with a health-care solution — an issue he said he would continue to focus on in his own reelection campaign. “That’s one man’s timetable,” Cornyn said of Trump’s declaration that a vote would take place after the elections. “But I intend to continue to try to find ways to provide more affordable choices for people when it comes to their health care.” Sens. Rick Scott (R-Fla.) and Josh Hawley (R-Mo.) held a news conference Tuesday morning to discuss legislation to reduce the cost of prescription drug prices and increase transparency for consumers. Both senators said they were focused on drug prices — something they said they viewed as achievable — not the broader ACA replacement plan the president now says will be put off until after the elections. “I think you’d have to ask the president. I know what I’m going to focus on. I’m going to focus on drug prices,” Scott said when asked about Trump’s declaration that the vote would take place after the elections. Trump previously named Scott as one of the Republican senators working on replacement legislation. “I talk to the president a lot. I called him last week to talk about a couple other issues, and he brought up the fact he’d like me to focus on this, and I told him that what I was working on was prescription drug prices,” Scott said. “I’m a business guy. I didn’t try to do grand bargains.” As Missouri attorney general, Hawley led his state to join others in bringing the lawsuit aimed at overturning the ACA — legal action that the Trump administration is now supporting. Asked whether he had a “moral responsibility” to offer a replacement if the ACA is struck down in court, Hawley said it will remain in place as the case is adjudicated and that “I expect that will take quite some time.” “Obamacare is in place; it’s going to be for the foreseeable future,” Hawley said. “But we need to act now to actually get relief for families who depend on these prescription drugs.”  Seung Min Kim and Josh Dawsey contributed to this report.  '"
      ]
     },
     "execution_count": 17,
     "metadata": {},
     "output_type": "execute_result"
    }
   ],
   "source": [
    "def getTextWaPo(url):\n",
    "    r = requests.get(url)\n",
    "    r.encoding = 'utf-8'\n",
    "    html = r.text\n",
    "    soup = BeautifulSoup(html,\"lxml\")\n",
    "    text = \" \".join(map(lambda p:p.text, soup.find_all('article')))\n",
    "    return text\n",
    "\n",
    "url = \"https://www.washingtonpost.com/politics/trump-punts-vote-on-health-care-bill-until-after-next-years-elections/2019/04/02/068305d2-552c-11e9-8ef3-fbd41a2ce4d5_story.html?utm_term=.843f517b2f18\"\n",
    "text = getTextWaPo(url)"
   ]
  },
  {
   "cell_type": "code",
   "execution_count": 14,
   "metadata": {},
   "outputs": [],
   "source": [
    "# soup.find() only returns the first element that matches the <article> tag\n",
    "# soup.findall() returns all\n",
    "\n",
    "# there is one paragraph of html code here: I should figure out a way to remove it\n",
    "\n",
    "# if(typeof window.powaBoot===\"function\")window.powaBoot();else{window.powaBootBoot=window.powaBootBoot||function(){if(null===document.querySelector(\\'script[src*\\\\x3d\"powaBoot.js\"]\\')){var script=document.createElement(\"script\");var scripts=document.getElementsByTagName(\"script\")[0];script.src=\"https://d1pz6dax0t5mop.cloudfront.net/v/1.5.6/powaBoot.js\";script.async=true;scripts.parentNode.insertBefore(script,scripts);window.havePowaBoot=true}};window.powaBootBoot()}; "
   ]
  },
  {
   "cell_type": "code",
   "execution_count": 18,
   "metadata": {},
   "outputs": [],
   "source": [
    "from nltk.tokenize import sent_tokenize,word_tokenize\n",
    "from nltk.corpus import stopwords\n",
    "from string import punctuation"
   ]
  },
  {
   "cell_type": "code",
   "execution_count": 39,
   "metadata": {},
   "outputs": [],
   "source": [
    "sents = sent_tokenize(text)\n",
    "word_sent = word_tokenize(text.lower())\n",
    "\n",
    "# remove stopwords\n",
    "_stopwords = set(stopwords.words(\"english\") + list(punctuation)+['’','“','”','—'])\n",
    "word_sent = [word for word in word_sent if word not in _stopwords]"
   ]
  },
  {
   "cell_type": "code",
   "execution_count": 40,
   "metadata": {},
   "outputs": [
    {
     "data": {
      "text/plain": [
       "FreqDist({'trump': 22, 'said': 19, 'senate': 11, 'republicans': 10, 'house': 10, 'president': 9, 'would': 9, '—': 8, \"''\": 8, 'elections': 7, ...})"
      ]
     },
     "execution_count": 40,
     "metadata": {},
     "output_type": "execute_result"
    }
   ],
   "source": [
    "# find the most frequent words in the article\n",
    "from nltk.probability import FreqDist\n",
    "freq = FreqDist(word_sent)"
   ]
  },
  {
   "cell_type": "code",
   "execution_count": 41,
   "metadata": {},
   "outputs": [
    {
     "data": {
      "text/plain": [
       "['trump',\n",
       " 'said',\n",
       " 'senate',\n",
       " 'republicans',\n",
       " 'house',\n",
       " 'president',\n",
       " 'would',\n",
       " '—',\n",
       " \"''\",\n",
       " 'elections']"
      ]
     },
     "execution_count": 41,
     "metadata": {},
     "output_type": "execute_result"
    }
   ],
   "source": [
    "from heapq import nlargest\n",
    "# use nlargest to find the top 10 most frequent keywords in the article\n",
    "nlargest(10,freq,key=freq.get)"
   ]
  },
  {
   "cell_type": "code",
   "execution_count": 45,
   "metadata": {},
   "outputs": [
    {
     "data": {
      "text/plain": [
       "[\"      By  John Wagner and          John Wagner National reporter leading The Post's breaking political news team  Email  Bio  Follow         Erica Werner          Erica Werner Congressional reporter focusing on economic policy  Email  Bio  Follow         April 2 at 3:02 PM  President Trump abandoned plans to press for a vote on a bill to replace the Affordable Care Act ahead of next year’s elections following a conversation with Senate Majority Leader Mitch McConnell, the Kentucky Republican said Tuesday.\",\n",
       " 'McConnell told reporters that he and Trump had “a good conversation” Monday afternoon in which he said that Senate Republicans had no intention of trying to overhaul President Obama’s signature health-care law during a campaign season — a move many in the GOP saw as politically perilous, given that the issue helped Democrats in last year’s midterm elections.',\n",
       " '“It will be truly great HealthCare that will work for America.” [For Trump’s ‘Party of Healthcare,’ there is no health-care plan]    President Trump stopped to talk to members of the media as he walks to Marine One to depart from the South Lawn at the White House on Thursday.',\n",
       " 'if(typeof window.powaBoot===\"function\")window.powaBoot();else{window.powaBootBoot=window.powaBootBoot||function(){if(null===document.querySelector(\\'script[src*\\\\x3d\"powaBoot.js\"]\\')){var script=document.createElement(\"script\");var scripts=document.getElementsByTagName(\"script\")[0];script.src=\"https://d1pz6dax0t5mop.cloudfront.net/v/1.5.6/powaBoot.js\";script.async=true;scripts.parentNode.insertBefore(script,scripts);window.havePowaBoot=true}};window.powaBootBoot()};  [The Health 202: Trump’s latest twist on health care] And Senate Finance Committee Chairman Charles E. Grassley (R-Iowa), whose panel would be central to any such debate, also said last week that there was no plan to move forward.']"
      ]
     },
     "execution_count": 45,
     "metadata": {},
     "output_type": "execute_result"
    }
   ],
   "source": [
    "from collections import defaultdict\n",
    "ranking  = defaultdict(int)\n",
    "\n",
    "# find the most sentences with the most frequent words, and store result into a defaultdict where the keys are the indices of the sentences, and the values are the significance scores for the sentences (which is the sum of the importance of words in that sentence)\n",
    "for i, sent in enumerate(sents):\n",
    "    for w in word_tokenize(sent.lower()):\n",
    "        if w in freq:\n",
    "            ranking[i] +=freq[w]\n",
    "            \n",
    "# find the top 4 sentences from the ranking dictionary\n",
    "\n",
    "sent_index = nlargest(4, ranking,key=ranking.get)\n",
    "sent_index\n",
    "[sents[j] for j in sorted(sent_index)]\n"
   ]
  },
  {
   "cell_type": "code",
   "execution_count": 49,
   "metadata": {},
   "outputs": [],
   "source": [
    "# putting everything together in one function:\n",
    "from nltk.tokenize import sent_tokenize,word_tokenize\n",
    "from nltk.corpus import stopwords\n",
    "from nltk.probability import FreqDist\n",
    "from string import punctuation\n",
    "from collections import defaultdict\n",
    "from heapq import nlargest\n",
    "\n",
    "def summarize(text,n):\n",
    "    sents = sent_tokenize(text)\n",
    "    \n",
    "    assert n <= len(sents) # this checks whether the # of summary lines is smaller than the # of sentences in the article\n",
    "    word_sent = word_tokenize(text.lower())\n",
    "    _stopwords = set(stopwords.words(\"english\") + list(punctuation)+['’','“','”','—'])\n",
    "    \n",
    "    word_sent = [word for word in word_sent if word not in _stopwords]\n",
    "    freq = FreqDist(word_sent)\n",
    "    \n",
    "    ranking = defaultdict(int)\n",
    "    \n",
    "    for i, sent in enumerate(sents):\n",
    "        for w in word_tokenize(sent.lower()):\n",
    "            if w in freq:\n",
    "                ranking[i]+= freq[w]\n",
    "    \n",
    "    sent_index = nlargest(4, ranking,key=ranking.get)\n",
    "    return [sents[j] for j in sorted(sent_index)]\n",
    "    \n",
    "    "
   ]
  },
  {
   "cell_type": "code",
   "execution_count": 50,
   "metadata": {},
   "outputs": [
    {
     "data": {
      "text/plain": [
       "[\"      By  John Wagner and          John Wagner National reporter leading The Post's breaking political news team  Email  Bio  Follow         Erica Werner          Erica Werner Congressional reporter focusing on economic policy  Email  Bio  Follow         April 2 at 3:02 PM  President Trump abandoned plans to press for a vote on a bill to replace the Affordable Care Act ahead of next year’s elections following a conversation with Senate Majority Leader Mitch McConnell, the Kentucky Republican said Tuesday.\",\n",
       " 'McConnell told reporters that he and Trump had “a good conversation” Monday afternoon in which he said that Senate Republicans had no intention of trying to overhaul President Obama’s signature health-care law during a campaign season — a move many in the GOP saw as politically perilous, given that the issue helped Democrats in last year’s midterm elections.',\n",
       " '“It will be truly great HealthCare that will work for America.” [For Trump’s ‘Party of Healthcare,’ there is no health-care plan]    President Trump stopped to talk to members of the media as he walks to Marine One to depart from the South Lawn at the White House on Thursday.',\n",
       " 'if(typeof window.powaBoot===\"function\")window.powaBoot();else{window.powaBootBoot=window.powaBootBoot||function(){if(null===document.querySelector(\\'script[src*\\\\x3d\"powaBoot.js\"]\\')){var script=document.createElement(\"script\");var scripts=document.getElementsByTagName(\"script\")[0];script.src=\"https://d1pz6dax0t5mop.cloudfront.net/v/1.5.6/powaBoot.js\";script.async=true;scripts.parentNode.insertBefore(script,scripts);window.havePowaBoot=true}};window.powaBootBoot()};  [The Health 202: Trump’s latest twist on health care] And Senate Finance Committee Chairman Charles E. Grassley (R-Iowa), whose panel would be central to any such debate, also said last week that there was no plan to move forward.']"
      ]
     },
     "execution_count": 50,
     "metadata": {},
     "output_type": "execute_result"
    }
   ],
   "source": [
    "summarize(text,3)"
   ]
  }
 ],
 "metadata": {
  "kernelspec": {
   "display_name": "Python 3",
   "language": "python",
   "name": "python3"
  },
  "language_info": {
   "codemirror_mode": {
    "name": "ipython",
    "version": 3
   },
   "file_extension": ".py",
   "mimetype": "text/x-python",
   "name": "python",
   "nbconvert_exporter": "python",
   "pygments_lexer": "ipython3",
   "version": "3.7.0"
  }
 },
 "nbformat": 4,
 "nbformat_minor": 2
}
