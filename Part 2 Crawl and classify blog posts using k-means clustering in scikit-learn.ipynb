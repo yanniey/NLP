{
 "cells": [
  {
   "cell_type": "markdown",
   "metadata": {},
   "source": [
    "# Part 1: Autosummarise a Washington Post news article using rule-based methods"
   ]
  },
  {
   "cell_type": "code",
   "execution_count": 3,
   "metadata": {},
   "outputs": [],
   "source": [
    "import requests\n",
    "from bs4 import BeautifulSoup"
   ]
  },
  {
   "cell_type": "code",
   "execution_count": 17,
   "metadata": {},
   "outputs": [
    {
     "data": {
      "text/plain": [
       "'      By  John Wagner and          John Wagner National reporter leading The Post\\'s breaking political news team  Email  Bio  Follow         Erica Werner          Erica Werner Congressional reporter focusing on economic policy  Email  Bio  Follow         April 2 at 3:02 PM  President Trump abandoned plans to press for a vote on a bill to replace the Affordable Care Act ahead of next year’s elections following a conversation with Senate Majority Leader Mitch McConnell, the Kentucky Republican said Tuesday. McConnell told reporters that he and Trump had “a good conversation” Monday afternoon in which he said that Senate Republicans had no intention of trying to overhaul President Obama’s signature health-care law during a campaign season — a move many in the GOP saw as politically perilous, given that the issue helped Democrats in last year’s midterm elections. “I made it clear to him we were not going to be doing that in the Senate,” McConnell said, also pointing out the difficulty in crafting a bill that could pass the Democratic-led House. “We don’t have a misunderstanding about that.” In tweets late Monday night after the two men had talked, Trump signaled that he was punting on the issue until after next year’s election — suggesting that he believes he would still be in the White House and that Republicans would control both chambers of Congress at that point. “Vote will be taken right after the Election when Republicans hold the Senate & win back the House,” Trump wrote. “It will be truly great HealthCare that will work for America.” [For Trump’s ‘Party of Healthcare,’ there is no health-care plan]    President Trump stopped to talk to members of the media as he walks to Marine One to depart from the South Lawn at the White House on Thursday. (Jabin Botsford/The Washington Post)  McConnell said Tuesday that Trump still plans to develop a health-care plan to present to voters during the campaign but the Senate will not act on any “comprehensive” legislation before 2021. Congressional Republicans were caught off guard by Trump’s rapid shift to focus on health care last week, which was set off by his abrupt decision to direct the Justice Department to intervene in a federal-court case seeking to eliminate the ACA in its entirety on constitutional grounds. Trump later showed up a Senate Republican luncheon where he declared that they should be the “party of health care” and asked for assistance in writing a new bill. It soon became apparent, however, that other Republicans had little appetite to take on an issue that benefited Democrats during last year’s midterm elections. McConnell signaled that he would not play a major role in authoring new health-care legislation, saying he would instead wait to see what the White House produced in consultation with leaders of the Democratic-controlled House.        if(typeof window.powaBoot===\"function\")window.powaBoot();else{window.powaBootBoot=window.powaBootBoot||function(){if(null===document.querySelector(\\'script[src*\\\\x3d\"powaBoot.js\"]\\')){var script=document.createElement(\"script\");var scripts=document.getElementsByTagName(\"script\")[0];script.src=\"https://d1pz6dax0t5mop.cloudfront.net/v/1.5.6/powaBoot.js\";script.async=true;scripts.parentNode.insertBefore(script,scripts);window.havePowaBoot=true}};window.powaBootBoot()};  [The Health 202: Trump’s latest twist on health care] And Senate Finance Committee Chairman Charles E. Grassley (R-Iowa), whose panel would be central to any such debate, also said last week that there was no plan to move forward. In his tweets, Trump claimed that a bill is in the works. “The Republicans are developing a really great HealthCare Plan with far lower premiums (cost) & deductibles than ObamaCare,” he said. “In other words it will be far less expensive & much more usable than ObamaCare.”   Everybody agrees that ObamaCare doesn’t work. Premiums & deductibles are far too high - Really bad HealthCare! Even the Dems want to replace it, but with Medicare for all, which would cause 180 million Americans to lose their beloved private health insurance. The Republicans.....— Donald J. Trump (@realDonaldTrump) April 2, 2019     ....are developing a really great HealthCare Plan with far lower premiums (cost) & deductibles than ObamaCare. In other words it will be far less expensive & much more usable than ObamaCare. Vote will be taken right after the Election when Republicans hold the Senate & win......— Donald J. Trump (@realDonaldTrump) April 2, 2019     ....back the House. It will be truly great HealthCare that will work for America. Also, Republicans will always support Pre-Existing Conditions. The Republican Party will be known as the Party of Great HealtCare. Meantime, the USA is doing better than ever & is respected again!— Donald J. Trump (@realDonaldTrump) April 2, 2019   Despite the delay in legislative action, the Trump administration is continuing to push for the dismantling of the ACA through the courts. On Tuesday morning, House Speaker Nancy Pelosi (D-Calif.) and Senate Minority Leader Charles E. Schumer (D-N.Y.) held an event outside the Supreme Court urging the Justice Department to reverse its position in the case. Democrats in both chambers are introducing resolutions Tuesday to that end. The House plans to vote Wednesday. “We’re here to condemn what the president did,” Pelosi said. “Americans need to know where their representatives stand.” Schumer mocked Trump for pushing off the health-care debate past the elections. “Translation: They have no health-care plan,” he said. “What a ruse. What a shame. What a disgrace. .\\u2009.\\u2009. The American people will not stand for the president playing cynical games with health care.” Sen John Thune (R-S.D.), the No. 2 Senate Republican, said it makes sense to wait until after the election to attempt the large-scale health-insurance overhaul the president was suggesting. Trump probably “looked at the possibility that anything could move, I mean the idea that he could get a Democrat House to agree with the Republican Senate on something he wants to try to get enacted,” Thune said. “My guess is it’s just probably a realistic assessment of what the field looks like for the next couple of years.” Sen. John Cornyn (R-Tex.) said he did not think that Trump’s tweet removed any pressure from Republicans to come up with a health-care solution — an issue he said he would continue to focus on in his own reelection campaign. “That’s one man’s timetable,” Cornyn said of Trump’s declaration that a vote would take place after the elections. “But I intend to continue to try to find ways to provide more affordable choices for people when it comes to their health care.” Sens. Rick Scott (R-Fla.) and Josh Hawley (R-Mo.) held a news conference Tuesday morning to discuss legislation to reduce the cost of prescription drug prices and increase transparency for consumers. Both senators said they were focused on drug prices — something they said they viewed as achievable — not the broader ACA replacement plan the president now says will be put off until after the elections. “I think you’d have to ask the president. I know what I’m going to focus on. I’m going to focus on drug prices,” Scott said when asked about Trump’s declaration that the vote would take place after the elections. Trump previously named Scott as one of the Republican senators working on replacement legislation. “I talk to the president a lot. I called him last week to talk about a couple other issues, and he brought up the fact he’d like me to focus on this, and I told him that what I was working on was prescription drug prices,” Scott said. “I’m a business guy. I didn’t try to do grand bargains.” As Missouri attorney general, Hawley led his state to join others in bringing the lawsuit aimed at overturning the ACA — legal action that the Trump administration is now supporting. Asked whether he had a “moral responsibility” to offer a replacement if the ACA is struck down in court, Hawley said it will remain in place as the case is adjudicated and that “I expect that will take quite some time.” “Obamacare is in place; it’s going to be for the foreseeable future,” Hawley said. “But we need to act now to actually get relief for families who depend on these prescription drugs.”  Seung Min Kim and Josh Dawsey contributed to this report.  '"
      ]
     },
     "execution_count": 17,
     "metadata": {},
     "output_type": "execute_result"
    }
   ],
   "source": [
    "def getTextWaPo(url):\n",
    "    r = requests.get(url)\n",
    "    r.encoding = 'utf-8'\n",
    "    html = r.text\n",
    "    soup = BeautifulSoup(html,\"lxml\")\n",
    "    text = \" \".join(map(lambda p:p.text, soup.find_all('article')))\n",
    "    return text\n",
    "\n",
    "url = \"https://www.washingtonpost.com/politics/trump-punts-vote-on-health-care-bill-until-after-next-years-elections/2019/04/02/068305d2-552c-11e9-8ef3-fbd41a2ce4d5_story.html?utm_term=.843f517b2f18\"\n",
    "getTextWaPo(url)"
   ]
  },
  {
   "cell_type": "code",
   "execution_count": 14,
   "metadata": {},
   "outputs": [],
   "source": [
    "# soup.find() only returns the first element that matches the <article> tag\n",
    "# soup.findall() returns all\n",
    "\n",
    "# there is one paragraph of html code here: I should figure out a way to remove it\n",
    "\n",
    "# if(typeof window.powaBoot===\"function\")window.powaBoot();else{window.powaBootBoot=window.powaBootBoot||function(){if(null===document.querySelector(\\'script[src*\\\\x3d\"powaBoot.js\"]\\')){var script=document.createElement(\"script\");var scripts=document.getElementsByTagName(\"script\")[0];script.src=\"https://d1pz6dax0t5mop.cloudfront.net/v/1.5.6/powaBoot.js\";script.async=true;scripts.parentNode.insertBefore(script,scripts);window.havePowaBoot=true}};window.powaBootBoot()}; "
   ]
  },
  {
   "cell_type": "code",
   "execution_count": 18,
   "metadata": {},
   "outputs": [],
   "source": [
    "from nltk.tokenize import sent_tokenize,word_tokenize\n",
    "from nltk.corpus import stopwords\n",
    "from string import punctuation"
   ]
  },
  {
   "cell_type": "code",
   "execution_count": 39,
   "metadata": {},
   "outputs": [],
   "source": [
    "sents = sent_tokenize(text)\n",
    "word_sent = word_tokenize(text.lower())\n",
    "\n",
    "# remove stopwords\n",
    "_stopwords = set(stopwords.words(\"english\") + list(punctuation)+['’','“','”','—'])\n",
    "word_sent = [word for word in word_sent if word not in _stopwords]"
   ]
  },
  {
   "cell_type": "code",
   "execution_count": 40,
   "metadata": {},
   "outputs": [
    {
     "data": {
      "text/plain": [
       "FreqDist({'trump': 22, 'said': 19, 'senate': 11, 'republicans': 10, 'house': 10, 'president': 9, 'would': 9, '—': 8, \"''\": 8, 'elections': 7, ...})"
      ]
     },
     "execution_count": 40,
     "metadata": {},
     "output_type": "execute_result"
    }
   ],
   "source": [
    "# find the most frequent words in the article\n",
    "from nltk.probability import FreqDist\n",
    "freq = FreqDist(word_sent)"
   ]
  },
  {
   "cell_type": "code",
   "execution_count": 41,
   "metadata": {},
   "outputs": [
    {
     "data": {
      "text/plain": [
       "['trump',\n",
       " 'said',\n",
       " 'senate',\n",
       " 'republicans',\n",
       " 'house',\n",
       " 'president',\n",
       " 'would',\n",
       " '—',\n",
       " \"''\",\n",
       " 'elections']"
      ]
     },
     "execution_count": 41,
     "metadata": {},
     "output_type": "execute_result"
    }
   ],
   "source": [
    "from heapq import nlargest\n",
    "# use nlargest to find the top 10 most frequent keywords in the article\n",
    "nlargest(10,freq,key=freq.get)"
   ]
  },
  {
   "cell_type": "code",
   "execution_count": 45,
   "metadata": {},
   "outputs": [
    {
     "data": {
      "text/plain": [
       "[\"      By  John Wagner and          John Wagner National reporter leading The Post's breaking political news team  Email  Bio  Follow         Erica Werner          Erica Werner Congressional reporter focusing on economic policy  Email  Bio  Follow         April 2 at 3:02 PM  President Trump abandoned plans to press for a vote on a bill to replace the Affordable Care Act ahead of next year’s elections following a conversation with Senate Majority Leader Mitch McConnell, the Kentucky Republican said Tuesday.\",\n",
       " 'McConnell told reporters that he and Trump had “a good conversation” Monday afternoon in which he said that Senate Republicans had no intention of trying to overhaul President Obama’s signature health-care law during a campaign season — a move many in the GOP saw as politically perilous, given that the issue helped Democrats in last year’s midterm elections.',\n",
       " '“It will be truly great HealthCare that will work for America.” [For Trump’s ‘Party of Healthcare,’ there is no health-care plan]    President Trump stopped to talk to members of the media as he walks to Marine One to depart from the South Lawn at the White House on Thursday.',\n",
       " 'if(typeof window.powaBoot===\"function\")window.powaBoot();else{window.powaBootBoot=window.powaBootBoot||function(){if(null===document.querySelector(\\'script[src*\\\\x3d\"powaBoot.js\"]\\')){var script=document.createElement(\"script\");var scripts=document.getElementsByTagName(\"script\")[0];script.src=\"https://d1pz6dax0t5mop.cloudfront.net/v/1.5.6/powaBoot.js\";script.async=true;scripts.parentNode.insertBefore(script,scripts);window.havePowaBoot=true}};window.powaBootBoot()};  [The Health 202: Trump’s latest twist on health care] And Senate Finance Committee Chairman Charles E. Grassley (R-Iowa), whose panel would be central to any such debate, also said last week that there was no plan to move forward.']"
      ]
     },
     "execution_count": 45,
     "metadata": {},
     "output_type": "execute_result"
    }
   ],
   "source": [
    "from collections import defaultdict\n",
    "ranking  = defaultdict(int)\n",
    "\n",
    "# find the most sentences with the most frequent words, and store result into a defaultdict where the keys are the indices of the sentences, and the values are the significance scores for the sentences (which is the sum of the importance of words in that sentence)\n",
    "for i, sent in enumerate(sents):\n",
    "    for w in word_tokenize(sent.lower()):\n",
    "        if w in freq:\n",
    "            ranking[i] +=freq[w]\n",
    "            \n",
    "# find the top 4 sentences from the ranking dictionary\n",
    "\n",
    "sent_index = nlargest(4, ranking,key=ranking.get)\n",
    "sent_index\n",
    "[sents[j] for j in sorted(sent_index)]\n"
   ]
  },
  {
   "cell_type": "code",
   "execution_count": 49,
   "metadata": {},
   "outputs": [],
   "source": [
    "# putting everything together in one function:\n",
    "from nltk.tokenize import sent_tokenize,word_tokenize\n",
    "from nltk.corpus import stopwords\n",
    "from nltk.probability import FreqDist\n",
    "from string import punctuation\n",
    "from collections import defaultdict\n",
    "from heapq import nlargest\n",
    "\n",
    "def summarize(text,n):\n",
    "    sents = sent_tokenize(text)\n",
    "    \n",
    "    assert n <= len(sents) # this checks whether the # of summary lines is smaller than the # of sentences in the article\n",
    "    word_sent = word_tokenize(text.lower())\n",
    "    _stopwords = set(stopwords.words(\"english\") + list(punctuation)+['’','“','”','—'])\n",
    "    \n",
    "    word_sent = [word for word in word_sent if word not in _stopwords]\n",
    "    freq = FreqDist(word_sent)\n",
    "    \n",
    "    ranking = defaultdict(int)\n",
    "    \n",
    "    for i, sent in enumerate(sents):\n",
    "        for w in word_tokenize(sent.lower()):\n",
    "            if w in freq:\n",
    "                ranking[i]+= freq[w]\n",
    "    \n",
    "    sent_index = nlargest(4, ranking,key=ranking.get)\n",
    "    return [sents[j] for j in sorted(sent_index)]\n",
    "    \n",
    "    "
   ]
  },
  {
   "cell_type": "code",
   "execution_count": 50,
   "metadata": {},
   "outputs": [
    {
     "data": {
      "text/plain": [
       "[\"      By  John Wagner and          John Wagner National reporter leading The Post's breaking political news team  Email  Bio  Follow         Erica Werner          Erica Werner Congressional reporter focusing on economic policy  Email  Bio  Follow         April 2 at 3:02 PM  President Trump abandoned plans to press for a vote on a bill to replace the Affordable Care Act ahead of next year’s elections following a conversation with Senate Majority Leader Mitch McConnell, the Kentucky Republican said Tuesday.\",\n",
       " 'McConnell told reporters that he and Trump had “a good conversation” Monday afternoon in which he said that Senate Republicans had no intention of trying to overhaul President Obama’s signature health-care law during a campaign season — a move many in the GOP saw as politically perilous, given that the issue helped Democrats in last year’s midterm elections.',\n",
       " '“It will be truly great HealthCare that will work for America.” [For Trump’s ‘Party of Healthcare,’ there is no health-care plan]    President Trump stopped to talk to members of the media as he walks to Marine One to depart from the South Lawn at the White House on Thursday.',\n",
       " 'if(typeof window.powaBoot===\"function\")window.powaBoot();else{window.powaBootBoot=window.powaBootBoot||function(){if(null===document.querySelector(\\'script[src*\\\\x3d\"powaBoot.js\"]\\')){var script=document.createElement(\"script\");var scripts=document.getElementsByTagName(\"script\")[0];script.src=\"https://d1pz6dax0t5mop.cloudfront.net/v/1.5.6/powaBoot.js\";script.async=true;scripts.parentNode.insertBefore(script,scripts);window.havePowaBoot=true}};window.powaBootBoot()};  [The Health 202: Trump’s latest twist on health care] And Senate Finance Committee Chairman Charles E. Grassley (R-Iowa), whose panel would be central to any such debate, also said last week that there was no plan to move forward.']"
      ]
     },
     "execution_count": 50,
     "metadata": {},
     "output_type": "execute_result"
    }
   ],
   "source": [
    "summarize(text,3)"
   ]
  },
  {
   "cell_type": "markdown",
   "metadata": {},
   "source": [
    "# Part 2: Classifying a text using Machine Learning"
   ]
  },
  {
   "cell_type": "code",
   "execution_count": null,
   "metadata": {},
   "outputs": [],
   "source": [
    "# Feature extraction with bag of words\n",
    "# k-means clustering on themes\n",
    "\n",
    "# Objective: to build text corpus through collecting artciles from a blog"
   ]
  },
  {
   "cell_type": "markdown",
   "metadata": {},
   "source": [
    "## Step 1: create a link of all posts in this blogspot site"
   ]
  },
  {
   "cell_type": "code",
   "execution_count": 1,
   "metadata": {},
   "outputs": [
    {
     "name": "stdout",
     "output_type": "stream",
     "text": [
      "Older Posts https://doxydonkey.blogspot.com/search?updated-max=2017-05-23T19:53:00-07:00&max-results=7\n",
      "Older Posts https://doxydonkey.blogspot.com/search?updated-max=2017-05-14T19:02:00-07:00&max-results=7&start=7&by-date=false\n",
      "Older Posts https://doxydonkey.blogspot.com/search?updated-max=2017-05-02T19:43:00-07:00&max-results=7&start=14&by-date=false\n",
      "Older Posts https://doxydonkey.blogspot.com/search?updated-max=2017-04-17T19:26:00-07:00&max-results=7&start=21&by-date=false\n",
      "Older Posts https://doxydonkey.blogspot.com/search?updated-max=2017-04-10T18:56:00-07:00&max-results=7&start=28&by-date=false\n",
      "Older Posts https://doxydonkey.blogspot.com/search?updated-max=2017-03-30T19:57:00-07:00&max-results=7&start=35&by-date=false\n",
      "Older Posts https://doxydonkey.blogspot.com/search?updated-max=2017-03-20T19:47:00-07:00&max-results=7&start=42&by-date=false\n",
      "Older Posts https://doxydonkey.blogspot.com/search?updated-max=2017-03-02T17:42:00-08:00&max-results=7&start=49&by-date=false\n",
      "Older Posts https://doxydonkey.blogspot.com/search?updated-max=2017-02-21T19:13:00-08:00&max-results=7&start=56&by-date=false\n",
      "Older Posts https://doxydonkey.blogspot.com/search?updated-max=2017-02-12T18:34:00-08:00&max-results=7&start=63&by-date=false\n",
      "Older Posts https://doxydonkey.blogspot.com/search?updated-max=2017-02-01T18:56:00-08:00&max-results=7&start=70&by-date=false\n",
      "Older Posts https://doxydonkey.blogspot.com/search?updated-max=2017-01-22T18:58:00-08:00&max-results=7&start=77&by-date=false\n",
      "Older Posts https://doxydonkey.blogspot.com/search?updated-max=2017-01-11T18:09:00-08:00&max-results=7&start=84&by-date=false\n",
      "Older Posts https://doxydonkey.blogspot.com/search?updated-max=2017-01-02T17:59:00-08:00&max-results=7&start=91&by-date=false\n",
      "Older Posts https://doxydonkey.blogspot.com/search?updated-max=2016-12-22T18:58:00-08:00&max-results=7&start=98&by-date=false\n",
      "Older Posts https://doxydonkey.blogspot.com/search?updated-max=2016-12-13T18:57:00-08:00&max-results=7&start=105&by-date=false\n",
      "Older Posts https://doxydonkey.blogspot.com/search?updated-max=2016-12-04T18:58:00-08:00&max-results=7&start=112&by-date=false\n",
      "Older Posts https://doxydonkey.blogspot.com/search?updated-max=2016-09-09T07:34:00-07:00&max-results=7&start=119&by-date=false\n",
      "Older Posts https://doxydonkey.blogspot.com/search?updated-max=2016-08-28T20:08:00-07:00&max-results=7&start=126&by-date=false\n",
      "Older Posts https://doxydonkey.blogspot.com/search?updated-max=2016-08-17T19:24:00-07:00&max-results=7&start=133&by-date=false\n",
      "Older Posts https://doxydonkey.blogspot.com/search?updated-max=2016-08-07T20:30:00-07:00&max-results=7&start=140&by-date=false\n",
      "Older Posts https://doxydonkey.blogspot.com/search?updated-max=2016-07-26T19:55:00-07:00&max-results=7&start=147&by-date=false\n",
      "Older Posts https://doxydonkey.blogspot.com/search?updated-max=2016-07-17T19:47:00-07:00&max-results=7&start=154&by-date=false\n",
      "Older Posts https://doxydonkey.blogspot.com/search?updated-max=2016-07-06T19:34:00-07:00&max-results=7&start=161&by-date=false\n",
      "Older Posts https://doxydonkey.blogspot.com/search?updated-max=2016-06-26T19:36:00-07:00&max-results=7&start=168&by-date=false\n",
      "Older Posts https://doxydonkey.blogspot.com/search?updated-max=2016-06-15T19:23:00-07:00&max-results=7&start=175&by-date=false\n",
      "Older Posts https://doxydonkey.blogspot.com/search?updated-max=2016-06-06T18:50:00-07:00&max-results=7&start=182&by-date=false\n",
      "Older Posts https://doxydonkey.blogspot.com/search?updated-max=2016-05-26T20:08:00-07:00&max-results=7&start=189&by-date=false\n",
      "Older Posts https://doxydonkey.blogspot.com/search?updated-max=2016-05-17T18:52:00-07:00&max-results=7&start=196&by-date=false\n",
      "Older Posts https://doxydonkey.blogspot.com/search?updated-max=2016-05-06T19:26:00-07:00&max-results=7&start=203&by-date=false\n",
      "Older Posts https://doxydonkey.blogspot.com/search?updated-max=2016-04-27T19:03:00-07:00&max-results=7&start=210&by-date=false\n",
      "Older Posts https://doxydonkey.blogspot.com/search?updated-max=2016-04-19T19:36:00-07:00&max-results=7&start=217&by-date=false\n",
      "Older Posts https://doxydonkey.blogspot.com/search?updated-max=2016-04-10T19:19:00-07:00&max-results=7&start=224&by-date=false\n",
      "Older Posts https://doxydonkey.blogspot.com/search?updated-max=2016-03-30T19:12:00-07:00&max-results=7&start=231&by-date=false\n",
      "Older Posts https://doxydonkey.blogspot.com/search?updated-max=2016-03-20T18:41:00-07:00&max-results=7&start=238&by-date=false\n",
      "Older Posts https://doxydonkey.blogspot.com/search?updated-max=2016-03-09T18:38:00-08:00&max-results=7&start=245&by-date=false\n",
      "Older Posts https://doxydonkey.blogspot.com/search?updated-max=2016-02-28T17:47:00-08:00&max-results=7&start=252&by-date=false\n",
      "Older Posts https://doxydonkey.blogspot.com/search?updated-max=2016-02-17T18:44:00-08:00&max-results=7&start=259&by-date=false\n",
      "Older Posts https://doxydonkey.blogspot.com/search?updated-max=2016-02-08T18:13:00-08:00&max-results=7&start=266&by-date=false\n",
      "Older Posts https://doxydonkey.blogspot.com/search?updated-max=2016-01-28T19:45:00-08:00&max-results=7&start=273&by-date=false\n",
      "Older Posts https://doxydonkey.blogspot.com/search?updated-max=2016-01-18T18:30:00-08:00&max-results=7&start=280&by-date=false\n",
      "Older Posts https://doxydonkey.blogspot.com/search?updated-max=2016-01-07T19:03:00-08:00&max-results=7&start=287&by-date=false\n",
      "Older Posts https://doxydonkey.blogspot.com/search?updated-max=2015-12-28T18:26:00-08:00&max-results=7&start=294&by-date=false\n",
      "Older Posts https://doxydonkey.blogspot.com/search?updated-max=2015-12-16T18:24:00-08:00&max-results=7&start=301&by-date=false\n",
      "Older Posts https://doxydonkey.blogspot.com/search?updated-max=2015-12-07T18:24:00-08:00&max-results=7&start=308&by-date=false\n",
      "Older Posts https://doxydonkey.blogspot.com/search?updated-max=2015-11-26T17:49:00-08:00&max-results=7&start=315&by-date=false\n",
      "Older Posts https://doxydonkey.blogspot.com/search?updated-max=2015-11-17T18:18:00-08:00&max-results=7&start=322&by-date=false\n",
      "Older Posts https://doxydonkey.blogspot.com/search?updated-max=2015-11-05T20:15:00-08:00&max-results=7&start=329&by-date=false\n",
      "Older Posts https://doxydonkey.blogspot.com/search?updated-max=2015-10-27T20:04:00-07:00&max-results=7&start=336&by-date=false\n",
      "Older Posts https://doxydonkey.blogspot.com/search?updated-max=2015-10-12T19:45:00-07:00&max-results=7&start=343&by-date=false\n",
      "Older Posts https://doxydonkey.blogspot.com/search?updated-max=2015-09-30T19:33:00-07:00&max-results=7&start=350&by-date=false\n",
      "Older Posts https://doxydonkey.blogspot.com/search?updated-max=2015-09-20T19:11:00-07:00&max-results=7&start=357&by-date=false\n",
      "Older Posts https://doxydonkey.blogspot.com/search?updated-max=2015-09-09T19:32:00-07:00&max-results=7&start=364&by-date=false\n",
      "Older Posts https://doxydonkey.blogspot.com/search?updated-max=2015-08-31T19:31:00-07:00&max-results=7&start=371&by-date=false\n",
      "Older Posts https://doxydonkey.blogspot.com/search?updated-max=2015-08-20T19:29:00-07:00&max-results=7&start=378&by-date=false\n",
      "Older Posts https://doxydonkey.blogspot.com/search?updated-max=2015-08-11T19:32:00-07:00&max-results=7&start=385&by-date=false\n",
      "Older Posts https://doxydonkey.blogspot.com/search?updated-max=2015-08-02T19:04:00-07:00&max-results=7&start=392&by-date=false\n",
      "Older Posts https://doxydonkey.blogspot.com/search?updated-max=2015-07-22T19:39:00-07:00&max-results=7&start=399&by-date=false\n",
      "Older Posts https://doxydonkey.blogspot.com/search?updated-max=2015-07-13T19:38:00-07:00&max-results=7&start=406&by-date=false\n",
      "Older Posts https://doxydonkey.blogspot.com/search?updated-max=2015-07-02T21:15:00-07:00&max-results=7&start=413&by-date=false\n",
      "Older Posts https://doxydonkey.blogspot.com/search?updated-max=2015-06-23T19:30:00-07:00&max-results=7&start=420&by-date=false\n",
      "Older Posts https://doxydonkey.blogspot.com/search?updated-max=2015-06-14T19:36:00-07:00&max-results=7&start=427&by-date=false\n",
      "Older Posts https://doxydonkey.blogspot.com/search?updated-max=2015-06-02T19:38:00-07:00&max-results=7&start=434&by-date=false\n",
      "Older Posts https://doxydonkey.blogspot.com/search?updated-max=2015-05-24T20:16:00-07:00&max-results=7&start=441&by-date=false\n",
      "Older Posts https://doxydonkey.blogspot.com/search?updated-max=2015-05-13T20:18:00-07:00&max-results=7&start=448&by-date=false\n"
     ]
    },
    {
     "name": "stdout",
     "output_type": "stream",
     "text": [
      "Older Posts https://doxydonkey.blogspot.com/search?updated-max=2015-05-04T20:23:00-07:00&max-results=7&start=455&by-date=false\n",
      "Older Posts https://doxydonkey.blogspot.com/search?updated-max=2015-04-23T20:19:00-07:00&max-results=7&start=462&by-date=false\n",
      "Older Posts https://doxydonkey.blogspot.com/search?updated-max=2015-04-14T19:40:00-07:00&max-results=7&start=469&by-date=false\n",
      "Older Posts https://doxydonkey.blogspot.com/search?updated-max=2015-04-05T20:22:00-07:00&max-results=7&start=476&by-date=false\n",
      "Older Posts https://doxydonkey.blogspot.com/search?updated-max=2015-03-24T20:12:00-07:00&max-results=7&start=483&by-date=false\n",
      "Older Posts https://doxydonkey.blogspot.com/search?updated-max=2015-03-15T20:41:00-07:00&max-results=7&start=490&by-date=false\n",
      "Older Posts https://doxydonkey.blogspot.com/search?updated-max=2015-03-03T19:30:00-08:00&max-results=7&start=497&by-date=false\n",
      "Older Posts https://doxydonkey.blogspot.com/search?updated-max=2015-02-22T19:55:00-08:00&max-results=7&start=504&by-date=false\n",
      "Older Posts https://doxydonkey.blogspot.com/search?updated-max=2015-02-11T20:02:00-08:00&max-results=7&start=511&by-date=false\n",
      "Older Posts https://doxydonkey.blogspot.com/search?updated-max=2015-02-02T19:46:00-08:00&max-results=7&start=518&by-date=false\n",
      "Older Posts https://doxydonkey.blogspot.com/search?updated-max=2015-01-22T19:50:00-08:00&max-results=7&start=524&by-date=false\n",
      "Older Posts https://doxydonkey.blogspot.com/search?updated-max=2015-01-15T19:17:00-08:00&max-results=7&start=529&by-date=false\n",
      "Older Posts https://doxydonkey.blogspot.com/search?updated-max=2015-01-06T19:48:00-08:00&max-results=7&start=536&by-date=false\n",
      "Older Posts https://doxydonkey.blogspot.com/search?updated-max=2014-12-25T21:30:00-08:00&max-results=7&start=543&by-date=false\n",
      "Older Posts https://doxydonkey.blogspot.com/search?updated-max=2014-12-15T19:24:00-08:00&max-results=7&start=550&by-date=false\n",
      "Older Posts https://doxydonkey.blogspot.com/search?updated-max=2014-12-05T01:52:00-08:00&max-results=7&start=557&by-date=false\n",
      "Older Posts https://doxydonkey.blogspot.com/search?updated-max=2014-11-26T01:44:00-08:00&max-results=7&start=564&by-date=false\n",
      "Older Posts https://doxydonkey.blogspot.com/search?updated-max=2014-11-17T01:41:00-08:00&max-results=7&start=571&by-date=false\n",
      "Older Posts https://doxydonkey.blogspot.com/search?updated-max=2014-11-06T01:38:00-08:00&max-results=7&start=578&by-date=false\n",
      "Older Posts https://doxydonkey.blogspot.com/search?updated-max=2014-10-28T01:24:00-07:00&max-results=7&start=585&by-date=false\n",
      "Older Posts https://doxydonkey.blogspot.com/search?updated-max=2014-10-17T01:20:00-07:00&max-results=7&start=592&by-date=false\n"
     ]
    },
    {
     "data": {
      "text/plain": [
       "['https://doxydonkey.blogspot.com/search?updated-max=2017-05-23T19:53:00-07:00&max-results=7',\n",
       " 'https://doxydonkey.blogspot.com/search?updated-max=2017-05-14T19:02:00-07:00&max-results=7&start=7&by-date=false',\n",
       " 'https://doxydonkey.blogspot.com/search?updated-max=2017-05-02T19:43:00-07:00&max-results=7&start=14&by-date=false',\n",
       " 'https://doxydonkey.blogspot.com/search?updated-max=2017-04-17T19:26:00-07:00&max-results=7&start=21&by-date=false',\n",
       " 'https://doxydonkey.blogspot.com/search?updated-max=2017-04-10T18:56:00-07:00&max-results=7&start=28&by-date=false',\n",
       " 'https://doxydonkey.blogspot.com/search?updated-max=2017-03-30T19:57:00-07:00&max-results=7&start=35&by-date=false',\n",
       " 'https://doxydonkey.blogspot.com/search?updated-max=2017-03-20T19:47:00-07:00&max-results=7&start=42&by-date=false',\n",
       " 'https://doxydonkey.blogspot.com/search?updated-max=2017-03-02T17:42:00-08:00&max-results=7&start=49&by-date=false',\n",
       " 'https://doxydonkey.blogspot.com/search?updated-max=2017-02-21T19:13:00-08:00&max-results=7&start=56&by-date=false',\n",
       " 'https://doxydonkey.blogspot.com/search?updated-max=2017-02-12T18:34:00-08:00&max-results=7&start=63&by-date=false',\n",
       " 'https://doxydonkey.blogspot.com/search?updated-max=2017-02-01T18:56:00-08:00&max-results=7&start=70&by-date=false',\n",
       " 'https://doxydonkey.blogspot.com/search?updated-max=2017-01-22T18:58:00-08:00&max-results=7&start=77&by-date=false',\n",
       " 'https://doxydonkey.blogspot.com/search?updated-max=2017-01-11T18:09:00-08:00&max-results=7&start=84&by-date=false',\n",
       " 'https://doxydonkey.blogspot.com/search?updated-max=2017-01-02T17:59:00-08:00&max-results=7&start=91&by-date=false',\n",
       " 'https://doxydonkey.blogspot.com/search?updated-max=2016-12-22T18:58:00-08:00&max-results=7&start=98&by-date=false',\n",
       " 'https://doxydonkey.blogspot.com/search?updated-max=2016-12-13T18:57:00-08:00&max-results=7&start=105&by-date=false',\n",
       " 'https://doxydonkey.blogspot.com/search?updated-max=2016-12-04T18:58:00-08:00&max-results=7&start=112&by-date=false',\n",
       " 'https://doxydonkey.blogspot.com/search?updated-max=2016-09-09T07:34:00-07:00&max-results=7&start=119&by-date=false',\n",
       " 'https://doxydonkey.blogspot.com/search?updated-max=2016-08-28T20:08:00-07:00&max-results=7&start=126&by-date=false',\n",
       " 'https://doxydonkey.blogspot.com/search?updated-max=2016-08-17T19:24:00-07:00&max-results=7&start=133&by-date=false',\n",
       " 'https://doxydonkey.blogspot.com/search?updated-max=2016-08-07T20:30:00-07:00&max-results=7&start=140&by-date=false',\n",
       " 'https://doxydonkey.blogspot.com/search?updated-max=2016-07-26T19:55:00-07:00&max-results=7&start=147&by-date=false',\n",
       " 'https://doxydonkey.blogspot.com/search?updated-max=2016-07-17T19:47:00-07:00&max-results=7&start=154&by-date=false',\n",
       " 'https://doxydonkey.blogspot.com/search?updated-max=2016-07-06T19:34:00-07:00&max-results=7&start=161&by-date=false',\n",
       " 'https://doxydonkey.blogspot.com/search?updated-max=2016-06-26T19:36:00-07:00&max-results=7&start=168&by-date=false',\n",
       " 'https://doxydonkey.blogspot.com/search?updated-max=2016-06-15T19:23:00-07:00&max-results=7&start=175&by-date=false',\n",
       " 'https://doxydonkey.blogspot.com/search?updated-max=2016-06-06T18:50:00-07:00&max-results=7&start=182&by-date=false',\n",
       " 'https://doxydonkey.blogspot.com/search?updated-max=2016-05-26T20:08:00-07:00&max-results=7&start=189&by-date=false',\n",
       " 'https://doxydonkey.blogspot.com/search?updated-max=2016-05-17T18:52:00-07:00&max-results=7&start=196&by-date=false',\n",
       " 'https://doxydonkey.blogspot.com/search?updated-max=2016-05-06T19:26:00-07:00&max-results=7&start=203&by-date=false',\n",
       " 'https://doxydonkey.blogspot.com/search?updated-max=2016-04-27T19:03:00-07:00&max-results=7&start=210&by-date=false',\n",
       " 'https://doxydonkey.blogspot.com/search?updated-max=2016-04-19T19:36:00-07:00&max-results=7&start=217&by-date=false',\n",
       " 'https://doxydonkey.blogspot.com/search?updated-max=2016-04-10T19:19:00-07:00&max-results=7&start=224&by-date=false',\n",
       " 'https://doxydonkey.blogspot.com/search?updated-max=2016-03-30T19:12:00-07:00&max-results=7&start=231&by-date=false',\n",
       " 'https://doxydonkey.blogspot.com/search?updated-max=2016-03-20T18:41:00-07:00&max-results=7&start=238&by-date=false',\n",
       " 'https://doxydonkey.blogspot.com/search?updated-max=2016-03-09T18:38:00-08:00&max-results=7&start=245&by-date=false',\n",
       " 'https://doxydonkey.blogspot.com/search?updated-max=2016-02-28T17:47:00-08:00&max-results=7&start=252&by-date=false',\n",
       " 'https://doxydonkey.blogspot.com/search?updated-max=2016-02-17T18:44:00-08:00&max-results=7&start=259&by-date=false',\n",
       " 'https://doxydonkey.blogspot.com/search?updated-max=2016-02-08T18:13:00-08:00&max-results=7&start=266&by-date=false',\n",
       " 'https://doxydonkey.blogspot.com/search?updated-max=2016-01-28T19:45:00-08:00&max-results=7&start=273&by-date=false',\n",
       " 'https://doxydonkey.blogspot.com/search?updated-max=2016-01-18T18:30:00-08:00&max-results=7&start=280&by-date=false',\n",
       " 'https://doxydonkey.blogspot.com/search?updated-max=2016-01-07T19:03:00-08:00&max-results=7&start=287&by-date=false',\n",
       " 'https://doxydonkey.blogspot.com/search?updated-max=2015-12-28T18:26:00-08:00&max-results=7&start=294&by-date=false',\n",
       " 'https://doxydonkey.blogspot.com/search?updated-max=2015-12-16T18:24:00-08:00&max-results=7&start=301&by-date=false',\n",
       " 'https://doxydonkey.blogspot.com/search?updated-max=2015-12-07T18:24:00-08:00&max-results=7&start=308&by-date=false',\n",
       " 'https://doxydonkey.blogspot.com/search?updated-max=2015-11-26T17:49:00-08:00&max-results=7&start=315&by-date=false',\n",
       " 'https://doxydonkey.blogspot.com/search?updated-max=2015-11-17T18:18:00-08:00&max-results=7&start=322&by-date=false',\n",
       " 'https://doxydonkey.blogspot.com/search?updated-max=2015-11-05T20:15:00-08:00&max-results=7&start=329&by-date=false',\n",
       " 'https://doxydonkey.blogspot.com/search?updated-max=2015-10-27T20:04:00-07:00&max-results=7&start=336&by-date=false',\n",
       " 'https://doxydonkey.blogspot.com/search?updated-max=2015-10-12T19:45:00-07:00&max-results=7&start=343&by-date=false',\n",
       " 'https://doxydonkey.blogspot.com/search?updated-max=2015-09-30T19:33:00-07:00&max-results=7&start=350&by-date=false',\n",
       " 'https://doxydonkey.blogspot.com/search?updated-max=2015-09-20T19:11:00-07:00&max-results=7&start=357&by-date=false',\n",
       " 'https://doxydonkey.blogspot.com/search?updated-max=2015-09-09T19:32:00-07:00&max-results=7&start=364&by-date=false',\n",
       " 'https://doxydonkey.blogspot.com/search?updated-max=2015-08-31T19:31:00-07:00&max-results=7&start=371&by-date=false',\n",
       " 'https://doxydonkey.blogspot.com/search?updated-max=2015-08-20T19:29:00-07:00&max-results=7&start=378&by-date=false',\n",
       " 'https://doxydonkey.blogspot.com/search?updated-max=2015-08-11T19:32:00-07:00&max-results=7&start=385&by-date=false',\n",
       " 'https://doxydonkey.blogspot.com/search?updated-max=2015-08-02T19:04:00-07:00&max-results=7&start=392&by-date=false',\n",
       " 'https://doxydonkey.blogspot.com/search?updated-max=2015-07-22T19:39:00-07:00&max-results=7&start=399&by-date=false',\n",
       " 'https://doxydonkey.blogspot.com/search?updated-max=2015-07-13T19:38:00-07:00&max-results=7&start=406&by-date=false',\n",
       " 'https://doxydonkey.blogspot.com/search?updated-max=2015-07-02T21:15:00-07:00&max-results=7&start=413&by-date=false',\n",
       " 'https://doxydonkey.blogspot.com/search?updated-max=2015-06-23T19:30:00-07:00&max-results=7&start=420&by-date=false',\n",
       " 'https://doxydonkey.blogspot.com/search?updated-max=2015-06-14T19:36:00-07:00&max-results=7&start=427&by-date=false',\n",
       " 'https://doxydonkey.blogspot.com/search?updated-max=2015-06-02T19:38:00-07:00&max-results=7&start=434&by-date=false',\n",
       " 'https://doxydonkey.blogspot.com/search?updated-max=2015-05-24T20:16:00-07:00&max-results=7&start=441&by-date=false',\n",
       " 'https://doxydonkey.blogspot.com/search?updated-max=2015-05-13T20:18:00-07:00&max-results=7&start=448&by-date=false',\n",
       " 'https://doxydonkey.blogspot.com/search?updated-max=2015-05-04T20:23:00-07:00&max-results=7&start=455&by-date=false',\n",
       " 'https://doxydonkey.blogspot.com/search?updated-max=2015-04-23T20:19:00-07:00&max-results=7&start=462&by-date=false',\n",
       " 'https://doxydonkey.blogspot.com/search?updated-max=2015-04-14T19:40:00-07:00&max-results=7&start=469&by-date=false',\n",
       " 'https://doxydonkey.blogspot.com/search?updated-max=2015-04-05T20:22:00-07:00&max-results=7&start=476&by-date=false',\n",
       " 'https://doxydonkey.blogspot.com/search?updated-max=2015-03-24T20:12:00-07:00&max-results=7&start=483&by-date=false',\n",
       " 'https://doxydonkey.blogspot.com/search?updated-max=2015-03-15T20:41:00-07:00&max-results=7&start=490&by-date=false',\n",
       " 'https://doxydonkey.blogspot.com/search?updated-max=2015-03-03T19:30:00-08:00&max-results=7&start=497&by-date=false',\n",
       " 'https://doxydonkey.blogspot.com/search?updated-max=2015-02-22T19:55:00-08:00&max-results=7&start=504&by-date=false',\n",
       " 'https://doxydonkey.blogspot.com/search?updated-max=2015-02-11T20:02:00-08:00&max-results=7&start=511&by-date=false',\n",
       " 'https://doxydonkey.blogspot.com/search?updated-max=2015-02-02T19:46:00-08:00&max-results=7&start=518&by-date=false',\n",
       " 'https://doxydonkey.blogspot.com/search?updated-max=2015-01-22T19:50:00-08:00&max-results=7&start=524&by-date=false',\n",
       " 'https://doxydonkey.blogspot.com/search?updated-max=2015-01-15T19:17:00-08:00&max-results=7&start=529&by-date=false',\n",
       " 'https://doxydonkey.blogspot.com/search?updated-max=2015-01-06T19:48:00-08:00&max-results=7&start=536&by-date=false',\n",
       " 'https://doxydonkey.blogspot.com/search?updated-max=2014-12-25T21:30:00-08:00&max-results=7&start=543&by-date=false',\n",
       " 'https://doxydonkey.blogspot.com/search?updated-max=2014-12-15T19:24:00-08:00&max-results=7&start=550&by-date=false',\n",
       " 'https://doxydonkey.blogspot.com/search?updated-max=2014-12-05T01:52:00-08:00&max-results=7&start=557&by-date=false',\n",
       " 'https://doxydonkey.blogspot.com/search?updated-max=2014-11-26T01:44:00-08:00&max-results=7&start=564&by-date=false',\n",
       " 'https://doxydonkey.blogspot.com/search?updated-max=2014-11-17T01:41:00-08:00&max-results=7&start=571&by-date=false',\n",
       " 'https://doxydonkey.blogspot.com/search?updated-max=2014-11-06T01:38:00-08:00&max-results=7&start=578&by-date=false',\n",
       " 'https://doxydonkey.blogspot.com/search?updated-max=2014-10-28T01:24:00-07:00&max-results=7&start=585&by-date=false',\n",
       " 'https://doxydonkey.blogspot.com/search?updated-max=2014-10-17T01:20:00-07:00&max-results=7&start=592&by-date=false']"
      ]
     },
     "execution_count": 1,
     "metadata": {},
     "output_type": "execute_result"
    }
   ],
   "source": [
    "import requests\n",
    "from bs4 import BeautifulSoup\n",
    "\n",
    "def getAllDoxyDonkeyPosts(url,links):\n",
    "    r = requests.get(url)\n",
    "    r.encoding = \"utf-8\"\n",
    "    html = r.text\n",
    "    soup = BeautifulSoup(html,\"lxml\")\n",
    "    for a in soup.findAll(\"a\"): # find all links on the blog pages\n",
    "        try:\n",
    "            url = a[\"href\"]\n",
    "            title = a[\"title\"]\n",
    "            if title == \"Older Posts\":\n",
    "                print(title, url)\n",
    "                links.append(url)\n",
    "                getAllDoxyDonkeyPosts(url,links)\n",
    "        except:\n",
    "            title = \"\"\n",
    "    return links\n",
    "\n",
    "\n",
    "blogURL = \"https://doxydonkey.blogspot.com/\"\n",
    "links = []\n",
    "getAllDoxyDonkeyPosts(blogURL, links)\n",
    "                \n",
    "\n",
    "\n"
   ]
  },
  {
   "cell_type": "markdown",
   "metadata": {},
   "source": [
    "## Step 2: crawl content of all posts on this site"
   ]
  },
  {
   "cell_type": "code",
   "execution_count": 22,
   "metadata": {},
   "outputs": [],
   "source": [
    "def getDoxyDonkeyText(URL):\n",
    "    r = requests.get(URL)\n",
    "    r.encoding = \"utf-8\"\n",
    "    html = r.text\n",
    "    soup = BeautifulSoup(html,\"lxml\")\n",
    "    divs = soup.findAll(\"div\",{\"class\":\"post-body\"}) #find all divs on the blog post page which has the class name \"post-body\"\n",
    "    posts = []\n",
    "    for div in divs:\n",
    "        for i in div.findAll(\"span\"):\n",
    "            if len(i)>5: # only keep articles which are > 5 words\n",
    "                posts.append(i.text.replace(\"?\",\" \")) \n",
    "    return posts\n",
    "\n",
    "\n",
    "allPosts = []\n",
    "\n",
    "for link in links:\n",
    "    allPosts +=getDoxyDonkeyText(link)"
   ]
  },
  {
   "cell_type": "code",
   "execution_count": 23,
   "metadata": {},
   "outputs": [
    {
     "data": {
      "text/plain": [
       "['Candid, Comedic and Macabre YouTube Stars Feel an Advertising Pinch:\\xa0Tim Wood sat on a chair inside a house in Hinsdale, N.Y., long rumored to be haunted. He had\\xa0a Ouija\\xa0board in his lap and was\\xa0livestreaming\\xa0the experience to a group of fans on YouTube. “You’re not ever supposed to do Ouija alone, let alone in a place that had an exorcism done in it,” he said to the empty room. As he filmed last month, the comments rolled in, some admiring (“You are one brave ghost hunter”), others fearing for his safety (“Tim, don’t summon what u can’t banish”). Mr. Wood, 39, has amassed a small but loyal following by making online videos of ghost hunts and paranormal activity, using YouTube to broadcast his work since about 2013. Automatically placed advertisements on his channel, LiveScifi, which has about 470,000 subscribers, have allowed him to turn the videos into a full-time job.But in the wake of a recent advertiser exodus from YouTube, prompted by major brands discovering they were showing up on videos promoting hate speech and terrorism, his earnings have plunged. Mr. Wood, who lives in San Francisco with his fiancée and their infant, said his channel had brought in at least $6,000 a month in revenue last year — which helped pay for travel to site locations, the production of his videos and his other day-to-day bills. In January, his estimated revenue was about $3,900. In February and March, he was alarmed to see that drop below $3,000. Last month, he saw around $1,600 and has been using crowdfunding to cover his shooting costs.In February and March, a slew of advertisers yanked their money from the platform, prompting YouTube to tighten its default settings for where ads appear and to offer new ways for brands to manually and automatically avoid material that violates its guidelines. “Rates are a lot lower and hurting a lot of folks,” said Krishna Subramanian, a founder of Captiv8, a firm that connects brands to social media influencers. His firm recently conducted a survey of 100 YouTube creators and said that channels focused on comedy and gaming experienced the sharpest drops in revenue last month compared with February. At the same time, creators in food,\\xa0beauty\\xa0and fashion, and family and parenting had\\xa0increases. YouTube shares ad revenue with creators, who keep more than half.\\xa0Some creators are “looking at a video saying, ‘It got a million views, but I only got $700 — I used to get $2,500,’” Mr. Subramanian said.',\n",
       " 'Ofo\\'s Zhang Sees China Bike Bubble But Says Startup Will Survive:\\xa0The co-founder of Ofo Inc., China’s biggest bike-sharing startup, sees a bubble in the industry but says his\\xa0multibillion dollar\\xa0business has the scale needed to survive any\\xa0bust.\\xa0Ofo plans to expand to 20 countries this year and 200 cities across China, Zhang Siding said Saturday in a Bloomberg Television interview in Zhengzhou, China. He said the company is valued at more than $2 billion.Ofo’s ubiquitous canary-yellow bikes are among more than 25 services now crowding China’s sidewalks. None are seen as profitable thanks to subsidies and low costs, yet together they’ve raised billions of dollars from venture capitalists hoping to cash in on the craze.\\xa0China’s bike-sharing pioneers are gearing up to compete globally, with arch-rival\\xa0Mobike\\xa0previously telling Bloomberg News it wants to enter 100 cities with several foreign locations already in the works. But the flood of bikes has led to angst among China’s local governments and anger from residents. The services typically allow users to park the bikes wherever they like, jamming up the sidewalks. Ofo’s daily revenue is about 10 million yuan ($1.45 million) and it has raised about $650 million since its inception, co-founder Dai Wei said last week in remarks confirmed by the company.\\xa0Zhang said Ofo is profitable in two cities, but added this wasn’t a major goal for the company. Instead, the priority is to improve the user experience and boost its brand.\\xa0\"There will be a bubble for the industry,\" he said. \"But as long as we continue to do practical things, then there won’t be a bubble.”',\n",
       " 'Microsoft\\'s Nadella banks on LinkedIn data to challenge Salesforce:\\xa0Microsoft Corp (MSFT.O) is rolling out upgrades to its sales software that integrates data from LinkedIn, an initiative that Microsoft CEO Satya Nadella told Reuters was central to the company\\'s long-term strategy for building specialized business software. The improvements to Dynamics 365, as Microsoft\\'s sales software is called, are a challenge to market leader Salesforce.com (CRM.N) and represent the first major product initiative to spring from Microsoft\\'s $26 billion acquisition of LinkedIn, the business-focused social network.\\xa0The new features will comb through a salesperson\\'s email,\\xa0calendar\\xa0and LinkedIn relationships to help gauge how warm their relationship is with a potential customer. The system will recommend ways to save an at-risk deal, like calling in a co-worker who is connected to the potential customer on LinkedIn.\\xa0The enhancements, which will be available this summer, will require Microsoft Dynamics customers to also be LinkedIn customers.\\xa0The artificial intelligence, or AI, capabilities of the software would be central, Nadella said. \"I want to be able to democratize AI so that any customer using these products is able to, in fact, take their own data and load it into AI for themselves,\" he said.\\xa0While Microsoft is a behemoth in the market for operating systems and productivity software like Office, it is a small player in sales software. The company ranks fourth - far behind Salesforce.com and other rivals Oracle Corp (ORCL.N) and SAP (SAPG.DE) - with just 4.3 percent of the market in 2015, the most recent year for which figures are available, according to research firm Gartner.Nadella is under pressure to show that the pricey LinkedIn acquisition in mid-2016 was worthwhile. R \"Ray\" Wang,\\xa0founder\\xa0of analyst firm Constellation Research, said LinkedIn-powered features, combined with popular programs like Office and Skype, could help.',\n",
       " 'Jeff Bezos Says He Is Selling $1 Billion a Year in Amazon Stock to Finance Race to Space:\\xa0Standing against the backdrop of his New Shepard rocket booster and a full-scale mock capsule for carrying humans into space, Jeff Bezos revealed on Wednesday that he was selling about $1 billion in Amazon stock a year to finance his Blue Origin rocket company.\\xa0Mr. Bezos, the billionaire founder of Amazon, showed off the reusable rocket booster and the mock-up of the capsule that will take people up for panoramic views back down at earth, during a symposium here.\\xa0Mr. Bezos, who hopes to build Blue Origin into a commercial and tourist venture, also disclosed that it would cost about $2.5 billion to develop an even bigger rocket, New Glenn, capable of lifting satellites and, eventually, people into orbit.\\xa0Like his fellow technology titan Elon Musk of SpaceX and Tesla, Mr. Bezos has identified reusable rocket parts as a key to lowering the price of admission to the field, which he said on Wednesday would lead to a “golden age of space exploration.” Last month, Mr. Bezos announced the\\xa0first-paying\\xa0customer,\\xa0Eutelstat, a satellite company, for New Glenn, whose commercial flights would help offset costs. New Glenn is expected to fly by 2020, he said, but humans will not be passengers on the heavy-lift rocket until many years after that. Mr. Bezos has repeatedly expressed caution about setting timetables for the start of Blue Origin’s commercial or passenger trips, and he did not diverge from that on Wednesday. He would not say when New Shepard would undergo its next round of test flights, or set a specific date as a goal, merely mentioning next year for possible tourist trips.',\n",
       " \"SoftBank moots Snapdeal sale to Flipkart, proposed deal set to be biggest in Indian e-commerce:\\xa0SoftBank, the largest shareholder in Snapdeal, held boardroom discussions on the proposed sale of the online marketplace to rival Flipkart on Tuesday, according to two people aware of the development.\\xa0According to the terms proposed by the Japanese media and telecom conglomerate, Snapdeal shareholders will get one share of Flipkart for every ten they own, said the people cited above. Early investors in Snapdeal — Kalaari Capital and Nexus Venture Partners — have also asked\\xa0for about $100 million each from the sale, the sources said.\\xa0The proposed sale could see SoftBank pick up a 20% stake in the country's largest\\xa0ecommerce\\xa0company for about $1.5 billion, in the process buying out $500 million to $1 billion worth of Tiger Global's holding in Flipkart, according to two people aware of the matter. \\xa0Alibaba-backed Paytm E-commerce has also discussed a potential acquisition of Snapdeal, but the valuation offered was much lower than that offered by Flipkart, added another source. \\xa0The meeting signals easing of tensions between\\xa0Kalaari\\xa0and Nexus, and SoftBank, said one of the sources mentioned above.\\xa0\",\n",
       " 'Cloudera’s IPO will test unicorn valuations:\\xa0Cloudera filed to go public mid-day last Friday, releasing a set of financial numbers that were the locus of anticipation: How would the company’s recent performance stack up to its $4.1 billion\\xa0valuation\\xa0set three years ago \\xa0Before Cloudera published its S-1 document — detailing its recent quarterly results and several years of financial data — reports indicated that the company would pursue a $4.1 billion valuation in its IPO, flat from its last private round when Intel poured $740 million into the company.\\xa0That Cloudera might aim for a level valuation with a dozen or so quarters of additional growth under its belt was notable. (Crunchbase News reached out to Cloudera regarding the valuation figure. The company declined to comment.) The situation raises an obvious question: Did Cloudera’s investors incorrectly estimate the potential future value of the company in 2014 if it intends to secure a flat valuation today \\xa0It is likely fair to say that Cloudera’s investors were at least partially incorrect about where the company’s value would end up by the first quarter of 2017. No one alive deploys three-quarters of a billion dollars in capital for a flat return over a multi-year period. And doubly, Cloudera may in fact still be overvalued at the proposed $4.1 billion\\xa0valuation\\xa0when compared to certain public market comps.',\n",
       " 'BlackRock cuts fees and jobs;\\xa0stockpicking\\xa0goes high-tech:\\xa0BlackRock Inc on Tuesday said it would overhaul its actively managed equities business, cutting jobs, dropping fees and relying more on computers to pick stocks in a move that highlights how difficult it has become for humans to beat the market.\\xa0The world\\'s biggest money manager has faced active stock fund withdrawals and the revamp is its biggest attempt yet to engineer a turnaround.\\xa0Last May, BlackRock said it had recruited Mark Wiseman, the head of Canada\\'s biggest public pension fund, to oversee the\\xa0stockpicking\\xa0operations after he revamped that fund\\'s operations to embrace data-mining and other technological approaches to investing. BlackRock is rebranding or adjusting investment strategies on about 11 percent of its $275 billion active stock fund business, putting a greater emphasis on technology-driven investing approaches in the largest set of sweeping changes for the business since transformational mergers that allowed it to grow to manage more than $5 trillion in assets.\\xa0Among the changes, BlackRock is removing some seven\\xa0traditionalist\\xa0\"Fundamental\" portfolio managers from their current assignments, according to a source familiar with the matter. More than 40 employees are being laid off, including some of the portfolio managers, according to another source.',\n",
       " 'Facebook pivots into Stories:\\xa0In its biggest change in a decade, Facebook is evolving from text and link-focused sharing to the visual communication format it admits “Snapchat has really pioneered.” Starting today, all users will soon have access to the new Facebook Camera feature that lets them overlay special effects on photos and videos. They can then share this content to a Snapchat clone called Facebook Stories that appears above News Feed on mobile and works similarly to Instagram’s 24-hour ephemeral slideshows. Users also may share these posts to News Feed, individual friends through the new Facebook Direct private visual messages that disappear once digested or any combination thereof.\\xa0But really it was the rapid ascent of Instagram Stories to 150 million daily users that he says inspired Facebook to start testing its own Stories in\\xa0January,\\xa0and keep expanding it to 12 countries before today’s rollout. That’s the worst news for Snapchat and\\xa0best\\xa0news for Facebook since the world’s biggest social network adopted the strategy of copying the competitor that refused its acquisition offer. If Facebook Stories clearly cannibalized News Feed sharing and consumption, it would have to demolish its most popular and lucrative feature to make way for the future where the camera is the new keyboard. And if users saw Facebook, Instagram, Messenger and WhatsApp’s Stories features as uncool clones or redundant as a set, it might have had to limit its attack on Snapchat to just one of its core apps.\\xa0Instead, Facebook can charge in\\xa0full-speed, attacking Snap from every angle without much penalty to its existing business. And with its enormous engineering and design teams, plus billions in profit each quarter, it can throw more resources at Camera, Stories and Direct visual messaging than Snap can. That product development strength is on display with today’s launch, and apparent from Facebook’s insistence on showing reporters forthcoming special effects that one-up Snapchat’s iconic lenses.\\xa0Until now, Facebook was just running missile tests and fighting skirmishes on the frontier. Today Facebook declares total war on Snapchat.',\n",
       " 'What happened to tablet sales \\xa0In the past month, both Apple and Samsung have refreshed their flagship tablets for the first time since 2014. A lot has changed in the space in the intervening years — mostly for the worse, as overall sales have continued to slip. In Q4 of last year, IDC reported that shipments had dropped 20 percent, year over year, while Strategic Analytics has the number at half that. There’s room for debate as far as precisely how down the overall market is (not to mention what precisely qualifies a device as a tablet), but there seems to at least be a consensus that early predictions of the tablet space eclipsing PCs missed the mark.\\xa0The space\\xa0has suffered for a variety of reasons. Among them, the fact that users simply aren’t refreshing tablets at a rate many manufacturers no doubt predicted.\\xa0“The iPad 2 is still in use today,” IDC Senior Analyst Jitesh Ubrani tells TechCrunch. “The [original] iPad Minis and Air are all still in use today. They were being supported by Apple until very recently. People have been hanging onto these devices and they’re finding that they work just as well as they did when they were released.”\\xa0There are a few reasons for this. For one thing, users haven’t been conditioned to upgrade slates on the same cycle as smartphone — something that’s been hammered into consumers in almost Pavlovian fashion through carrier upgrade cycles.\\xa0There’s also the simple fact that we tend not to put the devices through the same sort of day to day wear and tear of smartphones, or even laptops, with many users simply leaving their devices at home and breaking them out when it’s time to watch some Netflix. The growing size of smartphone displays has gone\\xa0a ways\\xa0toward cannibalizing tablet sales, as well, limiting the need for a much larger device when so many handsets are now within the six-inch range.\\xa0',\n",
       " 'Tiger Global may be part-exiting Flipkart with 3x return:\\xa0Tiger Global, the biggest investor in Flipkart, may have struck a deal with Microsoft and other new investors to sell a part of its stake in the e-commerce company in the latest\\xa0fund-raising\\xa0round that valued it at $9.3 billion pre-money, a person familiar with the conversations told VCCircle. While US online retailer eBay, Chinese tech major Tencent and Microsoft are investing $500 million each in the round, the part-sale of Tiger’s shares would mean Flipkart is still short of the $1.5 billion it was targeting to raise in this round. That means either one of the three would put in additional money, or a fourth investor—potentially Google Capital—would help Flipkart close the round within a few weeks, added the person cited above. The part-sale of its Flipkart stake aligns with Tiger Global’s strategy to book some gains before actively investing in the country again, VCCircle had reported earlier. It is part of its broader plans to monetise stakes in its major bets, such as Flipkart,\\xa0Ola\\xa0and Quikr, in the near term.\\xa0The secondary transaction of Flipkart shares between Tiger Global and Microsoft would result in the former’s stake in the company decreasing to around 25%, from the current 33-35%, depending on the deal size. This would also mean Tiger getting some of its money back—the firm is believed to have invested around $1 billion in Flipkart.\\xa0This part-exit would mean three-fold return for Tiger Global’s biggest investment in India, better than some of its poor exits such as Caratlane last year, where it practically made no gains at all. Except MakeMyTrip and JustDial, Tiger has seen no impressive exits in India yet.']"
      ]
     },
     "execution_count": 23,
     "metadata": {},
     "output_type": "execute_result"
    }
   ],
   "source": [
    "allPosts[:10]"
   ]
  },
  {
   "cell_type": "markdown",
   "metadata": {},
   "source": [
    "## Step 3: Identify underlying themes among the crawled articles using clustering"
   ]
  },
  {
   "cell_type": "code",
   "execution_count": 25,
   "metadata": {},
   "outputs": [],
   "source": [
    "# use scikit-learn to do TF-IDF and k-means clustering\n",
    "from sklearn.feature_extraction.text import TfidfVectorizer\n",
    "vectorizer = TfidfVectorizer(max_df=0.5, min_df = 2, stop_words=\"english\")"
   ]
  },
  {
   "cell_type": "code",
   "execution_count": 26,
   "metadata": {},
   "outputs": [],
   "source": [
    "X = vectorizer.fit_transform(allPosts)"
   ]
  },
  {
   "cell_type": "code",
   "execution_count": 30,
   "metadata": {},
   "outputs": [
    {
     "name": "stdout",
     "output_type": "stream",
     "text": [
      "Initialization complete\n",
      "Iteration  0, inertia 136.120\n",
      "Iteration  1, inertia 71.552\n",
      "Iteration  2, inertia 71.313\n",
      "Iteration  3, inertia 71.235\n",
      "Converged at iteration 3: center shift 0.000000e+00 within tolerance 5.977035e-08\n"
     ]
    },
    {
     "data": {
      "text/plain": [
       "KMeans(algorithm='auto', copy_x=True, init='k-means++', max_iter=100,\n",
       "    n_clusters=3, n_init=1, n_jobs=1, precompute_distances='auto',\n",
       "    random_state=None, tol=0.0001, verbose=True)"
      ]
     },
     "execution_count": 30,
     "metadata": {},
     "output_type": "execute_result"
    }
   ],
   "source": [
    "from sklearn.cluster import KMeans\n",
    "\n",
    "km = KMeans(n_clusters=3,init=\"k-means++\", max_iter=100, n_init=1, verbose =True)\n",
    "km.fit(X)"
   ]
  },
  {
   "cell_type": "code",
   "execution_count": null,
   "metadata": {},
   "outputs": [],
   "source": [
    "import numpy as np\n",
    "np.unique(km_)"
   ]
  }
 ],
 "metadata": {
  "kernelspec": {
   "display_name": "Python 3",
   "language": "python",
   "name": "python3"
  },
  "language_info": {
   "codemirror_mode": {
    "name": "ipython",
    "version": 3
   },
   "file_extension": ".py",
   "mimetype": "text/x-python",
   "name": "python",
   "nbconvert_exporter": "python",
   "pygments_lexer": "ipython3",
   "version": "3.7.0"
  }
 },
 "nbformat": 4,
 "nbformat_minor": 2
}
